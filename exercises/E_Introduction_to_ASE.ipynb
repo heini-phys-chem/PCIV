{
  "nbformat": 4,
  "nbformat_minor": 0,
  "metadata": {
    "colab": {
      "name": "Introduction_to_ASE.ipynb",
      "provenance": [],
      "collapsed_sections": [],
      "toc_visible": true
    },
    "kernelspec": {
      "name": "python3",
      "display_name": "Python 3"
    }
  },
  "cells": [
    {
      "cell_type": "markdown",
      "metadata": {
        "id": "ItvvVC4gB93V",
        "colab_type": "text"
      },
      "source": [
        "# PC IV - Atomic Simulation Environment (ASE[$^{[1]}$](https://doi.org/10.1088/1361-648X/aa680e))\n",
        "In this course we wil have a look at the python library *Atomic Simulation Environment* ([ASE](https:wiki.fysik.dtu.dk/ase/)) ).\n",
        "\n",
        "ASE has different *interfaces*  for quantum chemical (QM) und molecular dynamic (MD) codes (Asap, Gaussian, GROMACS, NWChem, Psi4, Turbomole, and many more). \n",
        "\n",
        "Requirements: Introduction course *Python für Chemiker* (Chapter 1: Introduction to Python 3.6 - Dr. Anders S. Christensen ).\n",
        "\n",
        "How to pass: Report the results from Exercise 1 to the exercise homepage.\n",
        "\n",
        "\n",
        "To receive the necessary files used in this exercise, please contact me: stefanniklaus.heinen@unibas.ch\n",
        "\n",
        "\n"
      ]
    },
    {
      "cell_type": "markdown",
      "metadata": {
        "id": "7m06IWGeEeTJ",
        "colab_type": "text"
      },
      "source": [
        "## Table of Contents\n",
        "\n",
        "*   Installation\n",
        "*   Introduction\n",
        " *  H$_2$ using Gaussian09\n",
        " *  H$_2$ using ASE\n",
        " * Distance Scan of H$_2$\n",
        "*   Reading/Writing Molecules\n",
        "*   Using Optimization Algorithms\n",
        "*   Exercise - Nudge Elastic Band (NEB) Calculations\n",
        "\n",
        "---\n",
        "\n",
        "I'm using the dark theme in google colabs, if you don't, please change \n",
        "```\n",
        "color='w'\n",
        "```\n",
        "to\n",
        "```\n",
        "color='k'\n",
        "```\n",
        "whenever using matplotlib."
      ]
    },
    {
      "cell_type": "markdown",
      "metadata": {
        "id": "8LCuW6HOv-Qx",
        "colab_type": "text"
      },
      "source": [
        "## (0) Installation"
      ]
    },
    {
      "cell_type": "code",
      "metadata": {
        "id": "OPykIJZD3Yqe",
        "colab_type": "code",
        "outputId": "f2eafc51-4064-4898-b4d3-d45ab7a679cf",
        "colab": {
          "base_uri": "https://localhost:8080/",
          "height": 238
        }
      },
      "source": [
        "!pip install ASE"
      ],
      "execution_count": 0,
      "outputs": [
        {
          "output_type": "stream",
          "text": [
            "Collecting ASE\n",
            "\u001b[?25l  Downloading https://files.pythonhosted.org/packages/d0/70/a8b1a7831193aa228defd805891c534d3e4717c8988147522e673458ddce/ase-3.19.1-py3-none-any.whl (2.1MB)\n",
            "\u001b[K     |████████████████████████████████| 2.1MB 2.8MB/s \n",
            "\u001b[?25hRequirement already satisfied: scipy in /usr/local/lib/python3.6/dist-packages (from ASE) (1.4.1)\n",
            "Requirement already satisfied: numpy in /usr/local/lib/python3.6/dist-packages (from ASE) (1.18.3)\n",
            "Requirement already satisfied: matplotlib in /usr/local/lib/python3.6/dist-packages (from ASE) (3.2.1)\n",
            "Requirement already satisfied: cycler>=0.10 in /usr/local/lib/python3.6/dist-packages (from matplotlib->ASE) (0.10.0)\n",
            "Requirement already satisfied: pyparsing!=2.0.4,!=2.1.2,!=2.1.6,>=2.0.1 in /usr/local/lib/python3.6/dist-packages (from matplotlib->ASE) (2.4.7)\n",
            "Requirement already satisfied: kiwisolver>=1.0.1 in /usr/local/lib/python3.6/dist-packages (from matplotlib->ASE) (1.2.0)\n",
            "Requirement already satisfied: python-dateutil>=2.1 in /usr/local/lib/python3.6/dist-packages (from matplotlib->ASE) (2.8.1)\n",
            "Requirement already satisfied: six in /usr/local/lib/python3.6/dist-packages (from cycler>=0.10->matplotlib->ASE) (1.12.0)\n",
            "Installing collected packages: ASE\n",
            "Successfully installed ASE-3.19.1\n"
          ],
          "name": "stdout"
        }
      ]
    },
    {
      "cell_type": "code",
      "metadata": {
        "id": "uMuxuogO3hpq",
        "colab_type": "code",
        "outputId": "59c21a91-66b8-431a-e8de-2a539a76e912",
        "colab": {
          "base_uri": "https://localhost:8080/",
          "height": 170
        }
      },
      "source": [
        "!pip install pyscf"
      ],
      "execution_count": 0,
      "outputs": [
        {
          "output_type": "stream",
          "text": [
            "Collecting pyscf\n",
            "\u001b[?25l  Downloading https://files.pythonhosted.org/packages/7a/ea/8ebe88368935dcc9a1a309764846e0bf5d04352d44067741aab3626ceb7f/pyscf-1.7.1-cp36-cp36m-manylinux1_x86_64.whl (24.3MB)\n",
            "\u001b[K     |████████████████████████████████| 24.3MB 174kB/s \n",
            "\u001b[?25hRequirement already satisfied: scipy in /usr/local/lib/python3.6/dist-packages (from pyscf) (1.4.1)\n",
            "Requirement already satisfied: numpy in /usr/local/lib/python3.6/dist-packages (from pyscf) (1.18.3)\n",
            "Requirement already satisfied: h5py in /usr/local/lib/python3.6/dist-packages (from pyscf) (2.10.0)\n",
            "Requirement already satisfied: six in /usr/local/lib/python3.6/dist-packages (from h5py->pyscf) (1.12.0)\n",
            "Installing collected packages: pyscf\n",
            "Successfully installed pyscf-1.7.1\n"
          ],
          "name": "stdout"
        }
      ]
    },
    {
      "cell_type": "markdown",
      "metadata": {
        "id": "YKurGvHoT03V",
        "colab_type": "text"
      },
      "source": [
        "After the installation we need to add the [PySCF](https://sunqm.github.io/pyscf/) calculator to ASE.\n",
        "On the panel on the left click on the folder symbol and go to *usr/local/lib/python3.6/dist-packeges/ase/calculators*.\n",
        "Then right click on *calculators* and make a new file, name it *pyscf_simple.py* and open it (double click on it).\n",
        "Then copy paste the calculator from [Github](https://github.com/heini-phys-chem/ASE_calculators/blob/master/calculators/pyscf_simple.py) and save the file ctrl+s."
      ]
    },
    {
      "cell_type": "markdown",
      "metadata": {
        "id": "wz24kCFmix-X",
        "colab_type": "text"
      },
      "source": [
        "Also upload the three xyz files: react.xyz, prod.xyz, and mol.xyz to the *content* directory (you will find the content directory by clicking on the folder symbol as well).\n",
        "\n",
        "Upload the two figures rxn.png and ASE.png to the content directory"
      ]
    },
    {
      "cell_type": "markdown",
      "metadata": {
        "id": "CoURVDIAFK_6",
        "colab_type": "text"
      },
      "source": [
        "## (1) Introduction\n",
        "Each QM code has its own notation and it has to be addapted for every code. ASE is a project that should ease the use of differnt codes and optimizers. Instead of writing different input files and starting the calculation using the command line of a terminal, ASE provides everything within a python script.\n",
        "\n",
        "\n"
      ]
    },
    {
      "cell_type": "code",
      "metadata": {
        "id": "qM7M_4TROBea",
        "colab_type": "code",
        "outputId": "d9fabc14-3dac-40b8-c89f-2928c6a60946",
        "colab": {
          "base_uri": "https://localhost:8080/",
          "height": 557
        }
      },
      "source": [
        "from IPython.display import Image\n",
        "Image('ASE.png')"
      ],
      "execution_count": 0,
      "outputs": [
        {
          "output_type": "execute_result",
          "data": {
            "image/png": "[encoded data removed]",
            "text/plain": [
              "<IPython.core.display.Image object>"
            ]
          },
          "metadata": {
            "tags": []
          },
          "execution_count": 47
        }
      ]
    },
    {
      "cell_type": "markdown",
      "metadata": {
        "id": "tg94USZlVIJm",
        "colab_type": "text"
      },
      "source": [
        "The figure above describes how ASE works. The *main* body contains the geometry you read in and calls a *Calculator/Optimizer*. If you want to do a Single Point calculation (SP) the *Calculator* is called and returns energies and forces.\n",
        "\n",
        "If you want to do a geometry optimization (GO), for every step the *Calculator* is called which returns forces and energies that are forwarded to the *Optimizer*, which changes the geometry and returns the new geometry which is then forwarded to the *Calculator*. This iteration will continue until the convergence criteria of the *Optimizer* is fullfilled."
      ]
    },
    {
      "cell_type": "markdown",
      "metadata": {
        "id": "f6x-8ZqVN7A6",
        "colab_type": "text"
      },
      "source": [
        "### H$_2$ using [Gaussian09](https://gaussian.com/glossary/g09/)\n",
        "The input file (H2.com) in Gaussian looks as follows:\n",
        "```\n",
        "# HF 6-31g(d) SP\n",
        "\n",
        "Title\n",
        "\n",
        "0 1\n",
        "H 0.0 0.0 0.0\n",
        "H 0.0 0.0 0.7\n",
        "```\n",
        "The calculation is started using the command line of a terminal:\n",
        "```\n",
        "g09 H2.com\n",
        "```\n",
        "As an output one gets a text file (H2.log) with hundreds of lines, stating multiple information (input data, meta data, and results). For every calculation one has to extract the needed information, e.g. the energy."
      ]
    },
    {
      "cell_type": "markdown",
      "metadata": {
        "id": "nwXKSeOlIHlu",
        "colab_type": "text"
      },
      "source": [
        "### H$_2$ using ASE\n",
        "In this simple example we are using ASE to do the same task. The python script sets the parameter, runs the calculation and also prints the required property (the energy) to the standard output.\n",
        "\n",
        "Unfortunately we cannot use most of the QM codes in Google colabs. The following example will not run, it is just for presenting purposes. For the rest of the course I wrote a simple PySCF calculator (makes not a lot of sense to use PySCF in ASE, as it already contains a python overlayer but for the sake of this course, we will use PySCF to get QM data, like energies and forces)."
      ]
    },
    {
      "cell_type": "code",
      "metadata": {
        "id": "AE-V-DKOIeok",
        "colab_type": "code",
        "colab": {}
      },
      "source": [
        "'''\n",
        "!!!!!!!!!!!!!!!!!!!!!!!!!!!!!!!!!!!!!!!!!!!!!!!!!!!!!!!!!!!!!!!!!\n",
        "This code block will not run and is just for presenting purposes!\n",
        "!!!!!!!!!!!!!!!!!!!!!!!!!!!!!!!!!!!!!!!!!!!!!!!!!!!!!!!!!!!!!!!!!\n",
        "'''\n",
        "\n",
        "from ase import Atoms\n",
        "from ase.calculators.gaussian import Gaussian\n",
        "\n",
        "# Define the geometry\n",
        "h2 = Atoms('H2', positions=[[0, 0, 0], [0, 0, 0.7]])\n",
        "\n",
        "# Set the calculator\n",
        "h2.set_calculator(Gaussian('HF', '6-31G(d)'))\n",
        "\n",
        "# Calculate the energy and print it to the standard output\n",
        "energy = h2.get_potential_energy()\n",
        "print(\"Energy of H2 molecule: {}\".format(energy))"
      ],
      "execution_count": 0,
      "outputs": []
    },
    {
      "cell_type": "markdown",
      "metadata": {
        "id": "9d9WWdueKC0o",
        "colab_type": "text"
      },
      "source": [
        "To run the same calculation with another code (e.g. ORCA or PySCF) only few changes has to be made. Below is an example using PySCF."
      ]
    },
    {
      "cell_type": "code",
      "metadata": {
        "id": "O8cj2Ef3QM8D",
        "colab_type": "code",
        "outputId": "f8ad0a7a-447c-471e-ab84-8aa5831eb9e8",
        "colab": {
          "base_uri": "https://localhost:8080/",
          "height": 34
        }
      },
      "source": [
        "from ase import Atoms\n",
        "from ase.calculators.pyscf_simple import PySCF_simple\n",
        "\n",
        "# Define the geometry\n",
        "h2 = Atoms('H2', positions=[[0, 0, 0], [0, 0, 0.7]])\n",
        "\n",
        "# Set the calculator\n",
        "h2.set_calculator(PySCF_simple(h2, method='HF', basis='def2svp'))\n",
        "\n",
        "# Calculate the energy and print it to the standard output\n",
        "energy = h2.get_potential_energy()\n",
        "print(\"Energy of H2 molecule: {:0.3f} eV\".format(energy))"
      ],
      "execution_count": 0,
      "outputs": [
        {
          "output_type": "stream",
          "text": [
            "Energy of H2 molecule: -30.672 eV\n"
          ],
          "name": "stdout"
        }
      ]
    },
    {
      "cell_type": "code",
      "metadata": {
        "id": "laDbfFMDZP2r",
        "colab_type": "code",
        "colab": {}
      },
      "source": [
        "# Now it's your turn. try different basis sets, levels of theory or another molecule and compare your results (supported methods HF, DFT, MP2)"
      ],
      "execution_count": 0,
      "outputs": []
    },
    {
      "cell_type": "markdown",
      "metadata": {
        "id": "S4nHkMrZMPm-",
        "colab_type": "text"
      },
      "source": [
        "### Distance scan of H$_2$\n",
        "In this example we'll do a distance scan of the H$_2$ molecule, save the results (energies) into a list and plot the potential energy curve using the library matplotlib.\n",
        "\n",
        "\n"
      ]
    },
    {
      "cell_type": "code",
      "metadata": {
        "id": "5ayYl5sMNQSZ",
        "colab_type": "code",
        "outputId": "4c477487-0676-48c8-cd1f-6623d31adb51",
        "colab": {
          "base_uri": "https://localhost:8080/",
          "height": 34
        }
      },
      "source": [
        "from ase import Atoms\n",
        "from ase.calculators.pyscf_simple import PySCF_simple\n",
        "import matplotlib.pyplot as plt\n",
        "\n",
        "# define lists\n",
        "Z2      = [ i*0.1 for i in range(3,50) ]\n",
        "results = []\n",
        "results2 = []\n",
        "\n",
        "# for loop over all distances\n",
        "for z2 in Z2:\n",
        "  h2 = Atoms('H2', positions=[[0, 0, 0], [0, 0, z2]])\n",
        "  h2.set_calculator(PySCF_simple(h2, method='HF', basis='def2svp'))\n",
        "  energy = h2.get_potential_energy()\n",
        "\n",
        "  # append result to list\n",
        "  results.append(energy)\n",
        "\n",
        "# Convert energies from eV to kcal/mol (pythony way of a for loop)\n",
        "energies = [ result*23.06 for result in results ]\n",
        "\n",
        "print(\"Calculations done\")"
      ],
      "execution_count": 0,
      "outputs": [
        {
          "output_type": "stream",
          "text": [
            "Calculations done\n"
          ],
          "name": "stdout"
        }
      ]
    },
    {
      "cell_type": "code",
      "metadata": {
        "id": "l7LuL04nj1GQ",
        "colab_type": "code",
        "outputId": "c05adcfd-d006-41a8-9727-3c682ad0f72b",
        "colab": {
          "base_uri": "https://localhost:8080/",
          "height": 303
        }
      },
      "source": [
        "# plot energies vs. distances\n",
        "fig = plt.figure()\n",
        "ax = fig.add_subplot(111)\n",
        "\n",
        "ax.plot(Z2, energies, 'o-')\n",
        "\n",
        "ax.set_title(r'H$_2$ distance scan', color='w')\n",
        "ax.set_xlabel(r'$d$ [$\\mathrm{\\AA}$]', color='w')\n",
        "ax.set_ylabel(r'$E$ [kcal/mol]', color='w')\n",
        "\n",
        "ax.tick_params(axis='both', colors='w')\n",
        "\n",
        "plt.show()"
      ],
      "execution_count": 0,
      "outputs": [
        {
          "output_type": "display_data",
          "data": {
            "image/png": "[encoded data removed]",
            "text/plain": [
              "<Figure size 432x288 with 1 Axes>"
            ]
          },
          "metadata": {
            "tags": [],
            "needs_background": "dark"
          }
        }
      ]
    },
    {
      "cell_type": "markdown",
      "metadata": {
        "id": "l1tHa-PGP559",
        "colab_type": "text"
      },
      "source": [
        "With a standard QM code one would have to generate 47 input files (one for every bond distance) and later extract the energies of every *log* file."
      ]
    },
    {
      "cell_type": "code",
      "metadata": {
        "id": "-dJFakhPXEKL",
        "colab_type": "code",
        "colab": {}
      },
      "source": [
        "# Now it's your turn. Try different basis sets and plot it to the same figure to see the effect of a basis set (supported methods HF, DFT, MP2)"
      ],
      "execution_count": 0,
      "outputs": []
    },
    {
      "cell_type": "markdown",
      "metadata": {
        "id": "oN7GbBK4Q1SD",
        "colab_type": "text"
      },
      "source": [
        "## (2) Reading/Writing molecules\n",
        "With ASE we can read in xyz files using the *io* class.\n"
      ]
    },
    {
      "cell_type": "code",
      "metadata": {
        "id": "urIfeW_yhZoZ",
        "colab_type": "code",
        "outputId": "e9a61f23-53fe-4295-d178-8266832b8f38",
        "colab": {
          "base_uri": "https://localhost:8080/",
          "height": 136
        }
      },
      "source": [
        "from ase import io\n",
        "from ase.atoms import Atoms\n",
        "\n",
        "# Read in mgeometry from an xzy file\n",
        "mol = io.read('mol.xyz')\n",
        "\n",
        "# Print atom coordinates\n",
        "positions = mol.get_positions()\n",
        "\n",
        "print(\"Coordinates:\")\n",
        "for i, position in enumerate(positions):\n",
        "  print(\"Atom {}: {}\".format(i, position))\n",
        "\n",
        "# Get atom labels\n",
        "labels = mol.get_chemical_symbols()\n",
        "\n",
        "print(\"\\nLabels:\")\n",
        "for i, label in enumerate(labels):\n",
        "  print(\"Atom {}: {}\".format(i, label))\n",
        "\n",
        "# write geometry to an xyz file\n",
        "io.write(\"mol_new.xyz\", mol)"
      ],
      "execution_count": 0,
      "outputs": [
        {
          "output_type": "stream",
          "text": [
            "Coordinates:\n",
            "Atom 0: [0. 0. 0.]\n",
            "Atom 1: [1.2 0.  0. ]\n",
            "\n",
            "Labels:\n",
            "Atom 0: H\n",
            "Atom 1: H\n"
          ],
          "name": "stdout"
        }
      ]
    },
    {
      "cell_type": "markdown",
      "metadata": {
        "id": "Y2YskDIYhRY6",
        "colab_type": "text"
      },
      "source": [
        "## (3) Using optimization algorithms\n",
        "For every QM code supported, ASE has a calculator. This is basically a python overlayer (a link) between ASE and the QM code. In this course you don't need to know how these look like or write one of your own. We will only apply them.\n",
        "\n",
        "The calculator object is not the code itself and you need the QM code installed on your system to be able to use the calculator.\n",
        "\n",
        "PySCF, as the name already indicates, is alradeady written with a python overlayer. I wrote a simple PySCF calculator so we can use it in ASE as well.\n",
        "\n",
        "PySCF, as well as other QM codes, have their own optimizers but this way we can use the optimzers in ASE and PySCF as the QM code in one script.\n"
      ]
    },
    {
      "cell_type": "code",
      "metadata": {
        "id": "LlDqyRhJotCB",
        "colab_type": "code",
        "colab": {}
      },
      "source": [
        "from ase import io\n",
        "from ase.calculators.pyscf_simple import PySCF_simple\n",
        "from ase.atoms import Atoms\n",
        "from ase.optimize.lbfgs import LBFGS\n",
        "\n",
        "def print_coords(positions):\n",
        "  positions = mol.get_positions()\n",
        "\n",
        "  print(\"\\nCoordinates:\")\n",
        "  for i, position in enumerate(positions):\n",
        "    print(\"Atom {}: {}\".format(i, position))"
      ],
      "execution_count": 0,
      "outputs": []
    },
    {
      "cell_type": "code",
      "metadata": {
        "id": "PT9eO_yhwcFH",
        "colab_type": "code",
        "outputId": "f1dcc562-b99f-4c78-fab6-892e435b0662",
        "colab": {
          "base_uri": "https://localhost:8080/",
          "height": 374
        }
      },
      "source": [
        "# Read in geometry\n",
        "mol = io.read('mol.xyz')\n",
        "positions = mol.get_positions()\n",
        "print_coords(positions)\n",
        "\n",
        "# Set the calculator\n",
        "mol.set_calculator(PySCF_simple(mol, method='DFT', xc='PBE', basis='def2svp'))\n",
        "\n",
        "# Add an optimizer (LBFGS)\n",
        "lbfgs = LBFGS(mol)\n",
        "\n",
        "# Run the geometry optimization (fmax is the convergence criteria for the force)\n",
        "print(\"\\nStarting optimization (fmax=0.05)\\n\")\n",
        "lbfgs.run(fmax=0.05)\n",
        "\n",
        "positions = mol.get_positions()\n",
        "print_coords(positions)\n"
      ],
      "execution_count": 0,
      "outputs": [
        {
          "output_type": "stream",
          "text": [
            "\n",
            "Coordinates:\n",
            "Atom 0: [0. 0. 0.]\n",
            "Atom 1: [1.2 0.  0. ]\n",
            "\n",
            "Starting optimization (fmax=0.05)\n",
            "\n",
            "       Step     Time          Energy         fmax\n",
            "*Force-consistent energies used in optimization.\n",
            "LBFGS:    0 07:34:32      -30.096187*       4.6241\n",
            "LBFGS:    1 07:34:34      -30.465774*       4.5524\n",
            "LBFGS:    2 07:34:35      -30.822890*       4.2834\n",
            "LBFGS:    3 07:34:37      -31.147890*       3.7101\n",
            "LBFGS:    4 07:34:39      -31.410545*       2.6693\n",
            "LBFGS:    5 07:34:41      -31.564313*       0.9052\n",
            "LBFGS:    6 07:34:42      -31.578725*       0.4082\n",
            "LBFGS:    7 07:34:44      -31.580057*       0.0364\n",
            "\n",
            "Coordinates:\n",
            "Atom 0: [ 2.14146875e-01  8.57885170e-18 -1.79483753e-17]\n",
            "Atom 1: [ 9.85853125e-01 -6.18175441e-18 -8.97371607e-18]\n"
          ],
          "name": "stdout"
        }
      ]
    },
    {
      "cell_type": "markdown",
      "metadata": {
        "id": "hedGuQsBbLej",
        "colab_type": "text"
      },
      "source": [
        "The optimal bond length of H$_2$ lies around 0.7 Angstrom which was achieved after the optimization. "
      ]
    },
    {
      "cell_type": "code",
      "metadata": {
        "id": "Ilewi1_WfeyB",
        "colab_type": "code",
        "colab": {}
      },
      "source": [
        "# Now it's your turn. Try different basis sets and/or levels of theory, optimize the hydrogen molecule again and compare the bond lengths (supported methods HF, DFT, MP2)"
      ],
      "execution_count": 0,
      "outputs": []
    },
    {
      "cell_type": "markdown",
      "metadata": {
        "id": "S_N7js9WhUID",
        "colab_type": "text"
      },
      "source": [
        "## Exercise 1 - Nudge elastic band (NEB) calculation\n",
        "The NEB method is used to find a transition state path between a reactant (initial state) and a product (final state). NEB creates a *chain* of images (geometries) and then relaxes them towards the transition state path or IRC (intrinsic reaction coordinate).\n",
        "\n",
        "For this exercise you are using the NEB [tutorial](https://wiki.fysik.dtu.dk/ase/ase/neb.html) (shown below) on the ASE homepage to fill in your code in the code blocks below.\n",
        "\n",
        "```\n",
        "# NEB tutorial from https://wiki.fysik.dtu.dk/ase/ase/neb.html\n",
        "\n",
        "from ase import io\n",
        "from ase.neb import NEB\n",
        "from ase.optimize import MDMin\n",
        "\n",
        "# Read initial and final states:\n",
        "initial = io.read('A.traj')\n",
        "final = io.read('B.traj')\n",
        "\n",
        "# Make a band consisting of 5 images:\n",
        "images = [initial]\n",
        "images += [initial.copy() for i in range(3)]\n",
        "images += [final]\n",
        "neb = NEB(images)\n",
        "\n",
        "# Interpolate linearly the potisions of the three middle images:\n",
        "neb.interpolate()\n",
        "\n",
        "# Set calculators:\n",
        "for image in images[1:4]:\n",
        "    image.set_calculator(MyCalculator(...))\n",
        "\n",
        "# Optimize:\n",
        "optimizer = MDMin(neb, trajectory='A2B.traj')\n",
        "optimizer.run(fmax=0.04)\n",
        "```"
      ]
    },
    {
      "cell_type": "markdown",
      "metadata": {
        "id": "73den4TcxiGf",
        "colab_type": "text"
      },
      "source": [
        "Use the examples from this course to run a NEB calculation of a Hydrogen shift. Please report the final *fmax* of the optimization of the reactant and product as well as the activation barrier ($E_\\mathrm{a}$) and the reaction energy ($E_{\\mathrm{r}}$) in **kcal/mol** (ASE returns energies in **eV**) on the exercise homepage.\n",
        "\n",
        "\n",
        "\n",
        "\n",
        "\n"
      ]
    },
    {
      "cell_type": "code",
      "metadata": {
        "id": "w9uoSzSftgl3",
        "colab_type": "code",
        "outputId": "2c05c058-565b-4b73-dc7a-88e177a961ca",
        "colab": {
          "base_uri": "https://localhost:8080/",
          "height": 188
        }
      },
      "source": [
        "from IPython.display import Image\n",
        "Image('rxn.png')"
      ],
      "execution_count": 0,
      "outputs": [
        {
          "output_type": "execute_result",
          "data": {
            "image/png": "[encoded data removed]",
            "text/plain": [
              "<IPython.core.display.Image object>"
            ]
          },
          "metadata": {
            "tags": []
          },
          "execution_count": 56
        }
      ]
    },
    {
      "cell_type": "code",
      "metadata": {
        "id": "zaVC_4JHrBC-",
        "colab_type": "code",
        "colab": {}
      },
      "source": [
        "from ase import io\n",
        "from ase.neb import NEB\n",
        "from ase.neb import NEBTools\n",
        "from ase.calculators.pyscf_simple import PySCF_simple\n",
        "from ase.atoms import Atoms\n",
        "from ase.optimize.lbfgs import LBFGS\n",
        "from ase.optimize import FIRE\n",
        "\n",
        "import numpy as np\n",
        "\n",
        "import matplotlib.pyplot as plt"
      ],
      "execution_count": 0,
      "outputs": []
    },
    {
      "cell_type": "code",
      "metadata": {
        "id": "pWcETy3ItEQT",
        "colab_type": "code",
        "outputId": "3a9c7010-aba8-4570-f7a0-3420ee6eac9f",
        "colab": {
          "base_uri": "https://localhost:8080/",
          "height": 34
        }
      },
      "source": [
        "# Read initial and final states:\n",
        "print(\" -> read xyz\")\n",
        "initial = io.read('react.xyz')\n",
        "final   = io.read('prod.xyz')\n",
        "\n",
        "initial.set_calculator(??)\n",
        "final.set_calculator(??)"
      ],
      "execution_count": 0,
      "outputs": [
        {
          "output_type": "stream",
          "text": [
            " -> read xyz\n"
          ],
          "name": "stdout"
        }
      ]
    },
    {
      "cell_type": "code",
      "metadata": {
        "id": "pPZr7ZvgtCJo",
        "colab_type": "code",
        "outputId": "dbb8f739-fd2b-4862-bacf-40d75cb8c343",
        "colab": {
          "base_uri": "https://localhost:8080/",
          "height": 204
        }
      },
      "source": [
        "# Optimnize reactant\n",
        "??"
      ],
      "execution_count": 0,
      "outputs": [
        {
          "output_type": "stream",
          "text": [
            " -> opt react prod\n",
            "       Step     Time          Energy         fmax\n",
            "*Force-consistent energies used in optimization.\n",
            "LBFGS:    0 06:54:52    -4106.169083*       5.1627\n",
            "LBFGS:    1 06:54:54    -4106.425816*       2.6415\n",
            "LBFGS:    2 06:54:57    -4106.544334*       1.7765\n",
            "LBFGS:    3 06:54:59    -4106.610015*       0.8720\n",
            "LBFGS:    4 06:55:01    -4106.636910*       0.6563\n",
            "LBFGS:    5 06:55:03    -4106.645183*       0.3634\n",
            "LBFGS:    6 06:55:05    -4106.649956*       0.1884\n"
          ],
          "name": "stdout"
        },
        {
          "output_type": "execute_result",
          "data": {
            "text/plain": [
              "True"
            ]
          },
          "metadata": {
            "tags": []
          },
          "execution_count": 47
        }
      ]
    },
    {
      "cell_type": "code",
      "metadata": {
        "id": "LSgAFMsFSQBu",
        "colab_type": "code",
        "outputId": "47a69941-c5e0-45f9-ad32-dee7fa927b2d",
        "colab": {
          "base_uri": "https://localhost:8080/",
          "height": 187
        }
      },
      "source": [
        " # optimize product\n",
        "??"
      ],
      "execution_count": 0,
      "outputs": [
        {
          "output_type": "stream",
          "text": [
            "       Step     Time          Energy         fmax\n",
            "*Force-consistent energies used in optimization.\n",
            "LBFGS:    0 06:55:11    -4107.329225*       2.5364\n",
            "LBFGS:    1 06:55:13    -4107.382598*       3.0094\n",
            "LBFGS:    2 06:55:16    -4107.400776*       2.0277\n",
            "LBFGS:    3 06:55:18    -4107.434591*       0.7063\n",
            "LBFGS:    4 06:55:20    -4107.441538*       0.3772\n",
            "LBFGS:    5 06:55:22    -4107.446525*       0.2978\n",
            "LBFGS:    6 06:55:25    -4107.448409*       0.1195\n"
          ],
          "name": "stdout"
        },
        {
          "output_type": "execute_result",
          "data": {
            "text/plain": [
              "True"
            ]
          },
          "metadata": {
            "tags": []
          },
          "execution_count": 48
        }
      ]
    },
    {
      "cell_type": "code",
      "metadata": {
        "id": "ZF4KL2uFs_aI",
        "colab_type": "code",
        "colab": {}
      },
      "source": [
        "# Make a band consisting of N=7 images:\n",
        "images\t= [initial]\n",
        "images += [??]\n",
        "images += [final]"
      ],
      "execution_count": 0,
      "outputs": []
    },
    {
      "cell_type": "code",
      "metadata": {
        "id": "7eiRO23bs-SE",
        "colab_type": "code",
        "outputId": "65386322-c4f9-4ed3-bddd-f24e6464d8c1",
        "colab": {
          "base_uri": "https://localhost:8080/",
          "height": 34
        }
      },
      "source": [
        "# Set calculators for all images using a for loop\n",
        "print(\" -> set calculator\")\n",
        "??"
      ],
      "execution_count": 0,
      "outputs": [
        {
          "output_type": "stream",
          "text": [
            " -> set calculator\n"
          ],
          "name": "stdout"
        }
      ]
    },
    {
      "cell_type": "code",
      "metadata": {
        "id": "EIxziDYBs8dK",
        "colab_type": "code",
        "colab": {}
      },
      "source": [
        "# Set up NEB\n",
        "neb = NEB(images, climb=True, k=0.6)\n",
        "nebTools = NEBTools(images)\n",
        "neb.interpolate('idpp')"
      ],
      "execution_count": 0,
      "outputs": []
    },
    {
      "cell_type": "code",
      "metadata": {
        "id": "sgY3I3its7Vh",
        "colab_type": "code",
        "outputId": "c7e13545-6333-4b7e-9a2d-9ae382a0d502",
        "colab": {
          "base_uri": "https://localhost:8080/",
          "height": 34
        }
      },
      "source": [
        "# Chose optimizer for the NEB run (here FIRE)\n",
        "??"
      ],
      "execution_count": 0,
      "outputs": [
        {
          "output_type": "stream",
          "text": [
            " -> start neb run\n"
          ],
          "name": "stdout"
        }
      ]
    },
    {
      "cell_type": "markdown",
      "metadata": {
        "id": "4GSGfmNVinyL",
        "colab_type": "text"
      },
      "source": [
        "---\n",
        "\n",
        "\n",
        "> THE NEB CALCULATION WILL TAKE APPROX. 20 MIN!\n",
        "\n",
        "\n",
        "\n",
        "---"
      ]
    },
    {
      "cell_type": "code",
      "metadata": {
        "id": "YAJImOR_wvRA",
        "colab_type": "code",
        "outputId": "65ddc389-696a-4e38-c10a-0c7dd87e52e3",
        "colab": {
          "base_uri": "https://localhost:8080/",
          "height": 918
        }
      },
      "source": [
        "# Run NEB\n",
        "opt.run(fmax=0.2)"
      ],
      "execution_count": 0,
      "outputs": [
        {
          "output_type": "stream",
          "text": [
            "      Step     Time          Energy         fmax\n",
            "*Force-consistent energies used in optimization.\n",
            "FIRE:    0 06:55:54    -4100.300426*       8.8532\n",
            "FIRE:    1 06:56:15    -4100.629680*       6.7216\n",
            "FIRE:    2 06:56:36    -4100.723277*       5.1939\n",
            "FIRE:    3 06:56:57    -4100.815571*       4.2697\n",
            "FIRE:    4 06:57:18    -4100.927779*       6.3080\n",
            "FIRE:    5 06:57:39    -4100.988391*       3.7775\n",
            "FIRE:    6 06:57:59    -4101.110622*       3.1879\n",
            "FIRE:    7 06:58:21    -4101.301850*       3.0599\n",
            "FIRE:    8 06:58:42    -4101.551889*       3.5242\n",
            "FIRE:    9 06:59:02    -4101.818378*       3.1857\n",
            "FIRE:   10 06:59:23    -4102.046740*       2.8585\n",
            "FIRE:   11 06:59:44    -4102.208522*       2.2524\n",
            "FIRE:   12 07:00:05    -4102.327933*       3.0394\n",
            "FIRE:   13 07:00:25    -4102.400592*       2.8750\n",
            "FIRE:   14 07:00:46    -4102.398702*       2.9335\n",
            "FIRE:   15 07:01:06    -4102.398874*       3.3796\n",
            "FIRE:   16 07:01:27    -4102.420085*       3.1977\n",
            "FIRE:   17 07:01:47    -4102.456595*       2.8510\n",
            "FIRE:   18 07:02:08    -4102.499546*       2.3687\n",
            "FIRE:   19 07:02:28    -4102.540729*       1.7911\n",
            "FIRE:   20 07:02:49    -4102.574514*       1.4428\n",
            "FIRE:   21 07:03:10    -4102.598491*       1.6225\n",
            "FIRE:   22 07:03:30    -4102.612749*       1.2728\n",
            "FIRE:   23 07:03:51    -4102.619066*       0.7211\n",
            "FIRE:   24 07:04:11    -4102.618752*       0.8640\n",
            "FIRE:   25 07:04:31    -4102.616525*       1.1190\n",
            "FIRE:   26 07:04:52    -4102.618464*       1.1985\n",
            "FIRE:   27 07:05:12    -4102.629010*       1.1415\n",
            "FIRE:   28 07:05:33    -4102.646517*       1.0655\n",
            "FIRE:   29 07:05:53    -4102.647836*       0.9408\n",
            "FIRE:   30 07:06:14    -4102.650289*       0.8008\n",
            "FIRE:   31 07:06:34    -4102.653574*       0.7266\n",
            "FIRE:   32 07:06:55    -4102.657340*       0.6315\n",
            "FIRE:   33 07:07:16    -4102.661218*       0.5204\n",
            "FIRE:   34 07:07:36    -4102.664847*       0.5589\n",
            "FIRE:   35 07:07:56    -4102.667927*       0.5437\n",
            "FIRE:   36 07:08:17    -4102.670451*       0.4179\n",
            "FIRE:   37 07:08:37    -4102.672034*       0.2281\n",
            "FIRE:   38 07:08:56    -4102.672550*       0.3381\n",
            "FIRE:   39 07:09:17    -4102.672365*       0.4980\n",
            "FIRE:   40 07:09:38    -4102.672075*       0.3760\n",
            "FIRE:   41 07:09:58    -4102.672245*       0.3946\n",
            "FIRE:   42 07:10:19    -4102.673178*       0.3525\n",
            "FIRE:   43 07:10:39    -4102.674219*       0.3484\n",
            "FIRE:   44 07:11:00    -4102.674386*       0.3233\n",
            "FIRE:   45 07:11:20    -4102.673840*       0.4086\n",
            "FIRE:   46 07:11:41    -4102.673413*       0.2656\n",
            "FIRE:   47 07:12:01    -4102.674349*       0.3384\n",
            "FIRE:   48 07:12:23    -4102.674638*       0.2465\n",
            "FIRE:   49 07:12:43    -4102.675132*       0.1833\n"
          ],
          "name": "stdout"
        },
        {
          "output_type": "execute_result",
          "data": {
            "text/plain": [
              "True"
            ]
          },
          "metadata": {
            "tags": []
          },
          "execution_count": 53
        }
      ]
    },
    {
      "cell_type": "code",
      "metadata": {
        "id": "VBM8o8XFs42X",
        "colab_type": "code",
        "outputId": "5a997257-cc62-411b-9693-84890fd65bd4",
        "colab": {
          "base_uri": "https://localhost:8080/",
          "height": 51
        }
      },
      "source": [
        "# get NEB data\n",
        "Ea, dE = nebTools.get_barrier() # barriers\n",
        "x, y, x_fit, y_fit, forces = nebTools.get_fit() # points along the IRC\n",
        "Er = np.abs(y[0] - y[-1])\n",
        "\n",
        "print(\"Ea = {:0.3f}\".format(Ea * ??))\n",
        "print(\"Er = {:0.3f}\".format(Er * ??))"
      ],
      "execution_count": 0,
      "outputs": [
        {
          "output_type": "stream",
          "text": [
            "Ea = 91.659\n",
            "Er = 18.412\n"
          ],
          "name": "stdout"
        }
      ]
    },
    {
      "cell_type": "code",
      "metadata": {
        "id": "DDjnOJThstoj",
        "colab_type": "code",
        "outputId": "f948aeff-7762-4a50-c5d3-d858ca1cf261",
        "colab": {
          "base_uri": "https://localhost:8080/",
          "height": 295
        }
      },
      "source": [
        "# plot the IRC\n",
        "import matplotlib.pyplot as plt\n",
        "\n",
        "# convert energies from eV to kcal/mol\n",
        "y     *= 23.06\n",
        "y_fit *= 23.06\n",
        "\n",
        "fig = plt.figure()\n",
        "ax = fig.add_subplot(111)\n",
        "\n",
        "ax.plot(x_fit, y_fit, color='C0', label='PBE (PySCF)')\n",
        "ax.scatter(x, y, marker='x', color='k', lw=2)\n",
        "\n",
        "ax.set_xlabel(\"IRC\", color='w')\n",
        "ax.set_ylabel(\"Energy [kcal/mol]\", color='w')\n",
        "ax.set_title(r\"PySCF\", color='w')\n",
        "\n",
        "ax.tick_params(axis='both', colors='w', color='w')\n",
        "\n",
        "plt.show()\n",
        "\n",
        "fig.savefig(\"IRC.png\")"
      ],
      "execution_count": 0,
      "outputs": [
        {
          "output_type": "display_data",
          "data": {
            "image/png": "[encoded data removed]",
            "text/plain": [
              "<Figure size 432x288 with 1 Axes>"
            ]
          },
          "metadata": {
            "tags": [],
            "needs_background": "dark"
          }
        }
      ]
    }
  ]
}
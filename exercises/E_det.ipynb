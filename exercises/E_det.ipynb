{
  "nbformat": 4,
  "nbformat_minor": 0,
  "metadata": {
    "colab": {
      "name": "ex1_det_excersise.ipynb",
      "provenance": []
    },
    "kernelspec": {
      "name": "python3",
      "display_name": "Python 3"
    }
  },
  "cells": [
    {
      "cell_type": "markdown",
      "metadata": {
        "id": "6ZJNyAI9A1Pk",
        "colab_type": "text"
      },
      "source": [
        "## Computing Eigenvalues \"by Hand\" - but why?\n",
        " **EXERCISE 3.1)  EIGENVALUES OF A 2 X 2 MATRIX**\n",
        "\n",
        " \n",
        "It is usually the recommended way to use external python libraries for linear algebra calculations such as the popular `numpy` library that we used earlier here. Moreover recent research in theoretical chemistry is often concerned with Machine Learning - almost all of these applications make use of linear algebra. For people interested in learning more about machine learning in python we recommend a tutorial which can be found at https://www.qmlcode.org/, but there are also many other wonderful resources such as http://neuralnetworksanddeeplearning.com/ and many more...\n",
        "\n",
        "It is important to be aware of how algorithms work, because it is very tempting in `python` to simply follow the paradigm of `import function` and then `function()` to find a solution for your problem. Usually this is not a bad idea but you should always have a general idea about what the `function` that you call is doing. Therefore the goal of the following exercise is to understand how eigenvalues are computed for a given matrix. The first step in doing so is to write a function that computes the determinant of a matrix. A quick reminder about functions in python. Say you want to compute the determinant $\\vert \\cdots \\vert $ of the matrix \n",
        "\n",
        "> $ \\left \\vert \\begin{pmatrix}\n",
        "  \\alpha & \\beta \\\\\n",
        "  \\gamma  & \\delta\n",
        " \\end{pmatrix}  \\right \\vert = \\alpha \\delta - \\gamma \\beta$ \n",
        "\n",
        "Write a function that can compute the determinant of a $2 \\times 2 $ matrix \n",
        "and its eigenvalues. Confirm that the eigenvalues of M_eth are +1 and -1."
      ]
    },
    {
      "cell_type": "markdown",
      "metadata": {
        "id": "1pEhg6RMA5-2",
        "colab_type": "text"
      },
      "source": [
        "Your Code comes here"
      ]
    },
    {
      "cell_type": "code",
      "metadata": {
        "id": "O0n28WSZA6i9",
        "colab_type": "code",
        "colab": {}
      },
      "source": [
        "## Your solution \n",
        "\n",
        "M_eth = np.array([[0, 1],\n",
        "                  [1, 0]])"
      ],
      "execution_count": 0,
      "outputs": []
    },
    {
      "cell_type": "markdown",
      "metadata": {
        "id": "Xw37QizqA_7p",
        "colab_type": "text"
      },
      "source": [
        "**EXERCISE 3.2)  Determinant by Hand (zu Fuss)**\n",
        "\n",
        "Let's begin with the exercise i.e. computing the eigenvalues of an arbitrary $N \\times N$ matrix. Many of you will be familiar with the rule of Sarrus which we applied in the previous exercise. However, this rule cannot be applied if $N > 3$, instead we need the help of another famous french mathematician and use the Laplace rule, which works as follows:\n",
        "\n",
        "> $A =\\begin{pmatrix}a_{11}&a_{12}&a_{13}\\\\a_{21}&a_{22}&a_{23}\\\\a_{31}&a_{32}&a_{33}\\end{pmatrix}$\n",
        "\n",
        "> $\\vert A \\vert = \\left \\vert \\begin{pmatrix}a_{11}&a_{12}&a_{13}\\\\a_{21}&a_{22}&a_{23}\\\\a_{31}&a_{32}&a_{33}\\end{pmatrix} \\right \\vert = +a_{11} \\cdot \n",
        "\\left \\vert \\begin{pmatrix} \\square &\\square&\\square\\\\\\square&a_{22}&a_{23}\\\\\\square&a_{32}&a_{33}\\end{pmatrix} \\right \\vert\n",
        "-a_{12}\\cdot \\left \\vert\n",
        "\\begin{pmatrix}\\square&\\square&\\square\\\\a_{21}&\\square&a_{23}\\\\a_{31}&\\square&a_{33}\\end{pmatrix} \\right \\vert\n",
        "+\n",
        "a_{13} \\cdot \\left \\vert \n",
        "\\begin{pmatrix}\\square&\\square&\\square\\\\a_{21}&a_{22}&\\square\\\\a_{31}&a_{32}&\\square\\end{pmatrix}\\right \\vert \n",
        "$\n",
        "\n",
        "\n",
        "Please do not be shocked by the long expressions there is a simple principle behind that. Try to understand how the terms originate from the matrix $A$. Imagine you are the tower of a chessboard game, a white field corresponds to plus a black field to minus (alternating signs). You begin in the upper left corner $a_{11}$ and you pick up a plus. There are now two possibilities: Down or right, you eliminate all elements along these two paths and by that you create a sub matrix determinant where we indicate deleted elements with a $\\square$ as follows,\n",
        "\n",
        "> $\\left \\vert \\begin{pmatrix} \\square &\\square&\\square\\\\\\square&a_{22}&a_{23}\\\\ \\square&a_{32}&a_{33}\\end{pmatrix} \\right \\vert\n",
        "= \\left \\vert   \\begin{pmatrix}\n",
        "  a_{22} & a_{23}  \\\\\n",
        "  a_{32}  & a_{33} \n",
        " \\end{pmatrix} \n",
        " \\right \\vert$\n",
        "\n",
        "Then you decide for one of the two directions, here you walk right. Now you are on a black minus field $a_{12}$. Again you eliminate all matrix elements in the two directions that a tower could walk. This time however you must proceed to the right so that your overall path remains in the same row. Next you proceed until you reach the last column where you pick up the element $a_{13}$ with a plus, construct the sub determinant and so on ... The principle that you have to repeat an algorithm multiple times is what is called a *recursive function* in programming. Note that we end up with compact $2 \\times 2$ matrices for which we can easily compute the determinant using the function det2dim() which we have previously implemented. This means we will be able to make use of this function again. \n",
        "\n",
        "Did you notice the *recursive* character of how you compute the terms of the determinant? \n",
        "\n",
        "*(Fun fact: What happens if you google for 'recursion'?)*\n",
        "\n",
        "*You will need to implement a function to compute the determinant of an $N \\times N$ matrix following these steps (but if you know an other way feel free to do implement it!):*\n",
        "\n",
        "**Instructions:**\n",
        "\n",
        "1) Define a function called det(M)\n",
        " \n",
        "2) Create a list that enumerates the rows (=columns) of the square matrix M using indices = list(range(len(A)))\n",
        " \n",
        "3) If the initial matrix M is $N \\times N = 2 \\times 2$ use the function det2dim(M) and return the value\n",
        " \n",
        "4) Loop over indices, make a copy of matrix M called Ms and remove the first row of Ms\n",
        " \n",
        "5) Compute the len of the column of Ms\n",
        " \n",
        "6) Loop over the elements of Ms and remove the remaining row of the submatrix\n",
        " \n",
        "7) Compute the sign in front of the submatrix\n",
        " \n",
        "8) Call the function again (*recursion*) and apply it to the new submatrix\n",
        " \n",
        "9) Compute the value of the determinant up to this point"
      ]
    },
    {
      "cell_type": "markdown",
      "metadata": {
        "id": "SG99LscZBIJU",
        "colab_type": "text"
      },
      "source": [
        "Your solution comes here"
      ]
    },
    {
      "cell_type": "code",
      "metadata": {
        "id": "1nxPW_usBIuF",
        "colab_type": "code",
        "colab": {}
      },
      "source": [
        "\"\"\"\n",
        "Your solution comes here. You can use the provided code and complete it or write\n",
        "your own code independently\n",
        "\"\"\"\n",
        "\n",
        "def det2dim(A):\n",
        "  return \n",
        "\n",
        "def determinant_recursive(A, total=0):\n",
        "    # Section 1: store indices in list for row referencing\n",
        "    indices = \n",
        "     \n",
        "    # Section 2: when at 2x2 submatrices recursive calls end\n",
        "    if len(A) == 2 and len(A[0]) == 2:\n",
        "        # Use the function to compute a 2 dim determinant\n",
        "        val = det2dim(A)\n",
        "        return val\n",
        " \n",
        "    # Section 3: define submatrix for focus column and \n",
        "    #      call this function\n",
        "    for ind_c in indices: # A) for each focus column, ...\n",
        "        # find the submatrix ...\n",
        "        As =                                                        \n",
        "        As =  ... C) remove the first row\n",
        "        height = len(As) # D) \n",
        " \n",
        "        for i in range(height): \n",
        "            # E) for each remaining row of submatrix ...\n",
        "            #     remove the focus column elements\n",
        "            As[i] =  \n",
        " \n",
        "        sign = (-1) ** (ind_c % 2) # F) \n",
        "        # G) pass submatrix recursively\n",
        "        sub_det = determinant_recursive(As)\n",
        "        # H) total all returns from recursion\n",
        "        total += sign * A[0][ind_c] * sub_det \n",
        " \n",
        "    return total"
      ],
      "execution_count": 0,
      "outputs": []
    },
    {
      "cell_type": "markdown",
      "metadata": {
        "id": "3CoQX5vjB0v6",
        "colab_type": "text"
      },
      "source": [
        "## Comparison with Numpy function: Benchmarking our Determinant Function\n",
        "\n",
        "Evaluate a random $10 \\times 10$ matrix with our function, such a matrix can be created with `np.random.rand(10, 10)`.\n",
        "\n",
        "You might want to go for a coffee in the meantime, if not you might want to reduce the size of the matrix. You will notice that it takes quite some time..."
      ]
    },
    {
      "cell_type": "code",
      "metadata": {
        "id": "OGN89l_gB8ci",
        "colab_type": "code",
        "colab": {}
      },
      "source": [
        "#bencharking our method versus numpy\n"
      ],
      "execution_count": 0,
      "outputs": []
    },
    {
      "cell_type": "markdown",
      "metadata": {
        "id": "HBHdkASLCOWH",
        "colab_type": "text"
      },
      "source": [
        "Compare the time that it takes to evaluate the same determinant with numpy and create a plot with the time that needs to pass to evaluate determinants with matrices up to $N=7000$ (again coffee strongly recommended, about 3 min time). Use the following grid for the size of the matrix `range(1, 7000, 100)`. \n",
        "\n",
        "Set the axis of this plot to have a double logarithmic scale using `plt.yscale(\"log\")` and `plt.xscale(\"log\")`. What do you observe for $N>1000$ and beyond?"
      ]
    },
    {
      "cell_type": "code",
      "metadata": {
        "id": "B1weaHlcCO2n",
        "colab_type": "code",
        "colab": {}
      },
      "source": [
        "#bencharking numpy"
      ],
      "execution_count": 0,
      "outputs": []
    },
    {
      "cell_type": "markdown",
      "metadata": {
        "id": "s3YXvMxXiY3E",
        "colab_type": "text"
      },
      "source": [
        "Keep in mind that you should find a good compromise between writing your own functions and using external libraries for speed!"
      ]
    },
    {
      "cell_type": "markdown",
      "metadata": {
        "id": "ZclQjVyTCTo-",
        "colab_type": "text"
      },
      "source": [
        "**REFERENCES**\n",
        "\n",
        "Determinant of $N \\times N$ matrix without numpy, very close to the following source:\n",
        "\n",
        "https://integratedmlai.com/find-the-determinant-of-a-matrix-with-pure-python-without-numpy-or-scipy/\n",
        "\n",
        "\n",
        "\n",
        "Eigenvalue Theory and Linear Algebra:\n",
        "\n",
        "\n",
        "*   Tutorium Analysis 1 und Lineare Algebra 1 \n",
        "*   Tutorium Analysis 2 und Lineare Algebra 2 (German)"
      ]
    }
  ]
}
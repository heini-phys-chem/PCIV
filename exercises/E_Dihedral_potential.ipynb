{
  "nbformat": 4,
  "nbformat_minor": 0,
  "metadata": {
    "colab": {
      "name": "Dihedral_potential.ipynb",
      "provenance": [],
      "toc_visible": true
    },
    "kernelspec": {
      "name": "python3",
      "display_name": "Python 3"
    }
  },
  "cells": [
    {
      "cell_type": "markdown",
      "metadata": {
        "id": "X2QIGuYK4h4v",
        "colab_type": "text"
      },
      "source": [
        "# Excercise 6 - Generate a Dihedral Potential Curve \n",
        "Conformational analysis is the study of the change in molecular energy with respect to rotation of a molecule's single bonds. Oftentimes such rotations are dihedral, meaning that they change the angle between two intersecting planes formed by two sets of three atoms, where two atoms are shared in a common bond. Here, we'll explore the change in molecular energy of ethanol with respect to the change in C-C-O-H dihedral angle using Python and PySCF. We will identify the energetic maximum, as well as two degenerate minima and the global minimum dihedral angle.  \n"
      ]
    },
    {
      "cell_type": "markdown",
      "metadata": {
        "id": "3WQCUR9rGu9W",
        "colab_type": "text"
      },
      "source": [
        "First, we will install PySCF:"
      ]
    },
    {
      "cell_type": "code",
      "metadata": {
        "id": "zCpcHgm_idhT",
        "colab_type": "code",
        "outputId": "8ac82700-5f35-4ca5-8014-01acbe0f150a",
        "colab": {
          "base_uri": "https://localhost:8080/",
          "height": 170
        }
      },
      "source": [
        "!pip install pyscf\n"
      ],
      "execution_count": 0,
      "outputs": [
        {
          "output_type": "stream",
          "text": [
            "Collecting pyscf\n",
            "\u001b[?25l  Downloading https://files.pythonhosted.org/packages/15/d7/85ba667b372ad46b6c9ba84969dc4d0c396bbf4f3ca2403a25e6ff506b57/pyscf-1.7.2.post2-cp36-cp36m-manylinux1_x86_64.whl (26.0MB)\n",
            "\u001b[K     |████████████████████████████████| 26.0MB 1.3MB/s \n",
            "\u001b[?25hRequirement already satisfied: h5py in /usr/local/lib/python3.6/dist-packages (from pyscf) (2.10.0)\n",
            "Requirement already satisfied: numpy in /usr/local/lib/python3.6/dist-packages (from pyscf) (1.18.4)\n",
            "Requirement already satisfied: scipy in /usr/local/lib/python3.6/dist-packages (from pyscf) (1.4.1)\n",
            "Requirement already satisfied: six in /usr/local/lib/python3.6/dist-packages (from h5py->pyscf) (1.12.0)\n",
            "Installing collected packages: pyscf\n",
            "Successfully installed pyscf-1.7.2.post2\n"
          ],
          "name": "stdout"
        }
      ]
    },
    {
      "cell_type": "markdown",
      "metadata": {
        "id": "xFFlROpqG5jQ",
        "colab_type": "text"
      },
      "source": [
        "And import the relevant dependencies:"
      ]
    },
    {
      "cell_type": "code",
      "metadata": {
        "id": "ltNQdvx6hbD8",
        "colab_type": "code",
        "colab": {}
      },
      "source": [
        "import random\n",
        "import numpy as np\n",
        "import matplotlib.pyplot as plt\n",
        "from mpl_toolkits.mplot3d import Axes3D\n",
        "import matplotlib.patches as mpatches\n",
        "import pyscf\n",
        "from pyscf import gto, scf"
      ],
      "execution_count": 0,
      "outputs": []
    },
    {
      "cell_type": "markdown",
      "metadata": {
        "id": "B8HpSPgLHOZf",
        "colab_type": "text"
      },
      "source": [
        "Read through the following six functions, which we will use to read in the ethanol molecular file, manipulate its bond geometries, and generate input files for the PySCF calculations."
      ]
    },
    {
      "cell_type": "code",
      "metadata": {
        "id": "2mhqoiC97l_4",
        "colab_type": "code",
        "colab": {}
      },
      "source": [
        "def get_mol(filename):\n",
        "\t# read in atomic labels and coordinates from the molecular input file\n",
        "\tlines = open(filename, 'r').readlines()\n",
        "\n",
        "\tlabels = []\n",
        "\tcoords = []\n",
        "\t# loop over each in the input file\n",
        "\tfor i, line in enumerate(lines):\n",
        "\t#look at the input file, do these line numbers match?\n",
        "\t\tif i == 0: numAtoms = line\n",
        "\t\tif i == 1: continue\n",
        "\t#break the coordinates into three list indices for x, y, and z\n",
        "\t\tif i > 1:\n",
        "\t\t\ttokens = line.split()\n",
        "\t\t\tlabels.append(tokens[0])\n",
        "\t\t\tcoords.append([ float(tokens[1]), float(tokens[2]), float(tokens[3]) ])\n",
        "\n",
        "\treturn numAtoms, labels, coords"
      ],
      "execution_count": 0,
      "outputs": []
    },
    {
      "cell_type": "code",
      "metadata": {
        "id": "vzUKSDXKgGDE",
        "colab_type": "code",
        "colab": {}
      },
      "source": [
        "def center_atom(atom_ind, coords):\n",
        "\t# move chosen atom, given by atom_ind, to origin\n",
        "\t\n",
        "\tcenter = coords[atom_ind]\n",
        "\t#all coordinates are relative to eachother, so by subtracting all coordinate values by the chosen atom coordinates, we can recenter the molecule\n",
        "\tfor i in range(len(coords)):\n",
        "\t\tcoords[i] = [ coords[i][0] - center[0], coords[i][1] - center[1], coords[i][2] - center[2] ]\n",
        "\n",
        "\treturn coords"
      ],
      "execution_count": 0,
      "outputs": []
    },
    {
      "cell_type": "code",
      "metadata": {
        "id": "IQfvWbTHgH0Q",
        "colab_type": "code",
        "colab": {}
      },
      "source": [
        "def rotate_bond(arm_ind, pivot_ind, ref_ind, theta, coords):\n",
        "    #rotate the bond formed by the arm and pivot atoms by theta degrees around the bond axis specified by the reference and pivot atoms\n",
        "    #note that the pivot atom has to be at origin in order for the rotation to work correctly\n",
        "\n",
        "    #we can apply continuous rotations without altering the original coordinates\n",
        "    coords_new = np.copy(coords)\n",
        "    arm = coords_new[arm_ind]\n",
        "    pivot = coords_new[pivot_ind]\n",
        "    ref = coords_new[ref_ind]\n",
        "\n",
        "    #define the vector to be rotated, and the axis around which the rotation occurs\n",
        "    vec = np.array([ arm[0] - pivot[0], arm[1] - pivot[1], arm[2] - pivot[2] ])\n",
        "    axis = np.array([ pivot[0] - ref[0], pivot[1] - ref[1], pivot[2] - ref[2] ])\n",
        "\n",
        "    #pass the vector and axis to the rotation matrix function, which returns a rotation matrix. \n",
        "    #The new rotated arm atom coordinates are the dot product of the rotation matrix and the old arm atom coordinates \n",
        "    #The function returns the updated molecular coordinates\n",
        "    coords_new[arm_ind] = np.dot( rotation_matrix((axis), theta), [ arm[0], arm[1], arm[2] ] )\n",
        "    return coords_new"
      ],
      "execution_count": 0,
      "outputs": []
    },
    {
      "cell_type": "code",
      "metadata": {
        "id": "ZoLhBA_Nha5D",
        "colab_type": "code",
        "colab": {}
      },
      "source": [
        "def get_dihedral(pivot, ref, arm, leg):\n",
        "    #returns the dihedral angle formed by arm atom with respect to the plane formed by the leg, reference, and pivot atoms\n",
        "    vec = np.array([ arm[0] - pivot[0], arm[1] - pivot[1], arm[2] - pivot[2] ])\n",
        "    axis = np.array([ pivot[0] - ref[0], pivot[1] - ref[1], pivot[2] - ref[2] ])\n",
        "    #the anchor vector is the bond between the reference and leg atom\n",
        "    anchor = np.array([ ref[0] - leg[0], ref[1] - leg[1], ref[2] - leg[2] ])\n",
        "    #generate a vector orthogonal to the plane formed by the axis and anchor vectors\n",
        "    normal_anchor = np.cross(axis, anchor) \n",
        "    #generate a vector orthogonal to the plane formed by the axis and arm vectors\n",
        "    normal_vec = np.cross(vec,axis)\n",
        "    #find the angle between the normal_anchor vector and the normal_arm vector\n",
        "    theta_norm = np.arccos( np.dot(normal_vec, normal_anchor) / (np.linalg.norm(normal_anchor) * np.linalg.norm(normal_vec)) )\n",
        "    #the angle between two vectors normal to two planes equals the angle between the two planes\n",
        "    return theta_norm"
      ],
      "execution_count": 0,
      "outputs": []
    },
    {
      "cell_type": "code",
      "metadata": {
        "id": "_WD856ELY0Ai",
        "colab_type": "code",
        "colab": {}
      },
      "source": [
        "def rotation_matrix(axis, theta):\n",
        "\t#return a rotation matrix encoding a theta degree rotation around the given axis\n",
        "\taxis = np.asarray(axis)\n",
        "\taxis = axis / np.sqrt(np.dot(axis, axis))\n",
        "\ta = np.cos(theta / 2.0)\n",
        "\n",
        "\tb, c, d = -axis * np.sin(theta / 2.0)\n",
        "\taa, bb, cc, dd = a * a, b * b, c * c, d * d\n",
        "\tbc, ad, ac, ab, bd, cd = b * c, a * d, a * c, a * b, b * d, c * d\n",
        "\n",
        "\treturn np.array([[aa + bb - cc - dd, 2 * (bc + ad), 2 * (bd - ac)],\n",
        "\t\t\t\t\t\t\t\t\t [2 * (bc - ad), aa + cc - bb - dd, 2 * (cd + ab)],\n",
        "\t\t\t\t\t\t\t\t\t [2 * (bd + ac), 2 * (cd - ab), aa + dd - bb - cc]])"
      ],
      "execution_count": 0,
      "outputs": []
    },
    {
      "cell_type": "code",
      "metadata": {
        "id": "vq7TayITxz_K",
        "colab_type": "code",
        "colab": {}
      },
      "source": [
        "def coords_to_input(coords, labels):\n",
        "  #convert molecular coordinates and labels into the pyscf input format\n",
        "  input_list = []\n",
        "  for c_index, coord in enumerate(coords):\n",
        "    coord_input = coord.tolist()\n",
        "    coord_input.insert(0, labels[c_index])\n",
        "    input_list.append(coord_input)\n",
        "  return input_list"
      ],
      "execution_count": 0,
      "outputs": []
    },
    {
      "cell_type": "markdown",
      "metadata": {
        "id": "P9ETKQ6ZMJjr",
        "colab_type": "text"
      },
      "source": [
        "First, generate the ethanol molecule by reading in the ethanol xyz file placed in the content folder."
      ]
    },
    {
      "cell_type": "code",
      "metadata": {
        "id": "RZI8uKmQZpTn",
        "colab_type": "code",
        "colab": {}
      },
      "source": [
        "natoms, labels, coords = get_mol('/content/ethanol.xyz')\n"
      ],
      "execution_count": 0,
      "outputs": []
    },
    {
      "cell_type": "markdown",
      "metadata": {
        "id": "pD8Jl1LlMX5N",
        "colab_type": "text"
      },
      "source": [
        "Try printing the number of atoms in ethanol, as well as their corresponding atomic labels and coordinates."
      ]
    },
    {
      "cell_type": "code",
      "metadata": {
        "id": "QEOfMf8oiSFI",
        "colab_type": "code",
        "colab": {}
      },
      "source": [
        "## Print out natoms, labels, and coords\n"
      ],
      "execution_count": 0,
      "outputs": []
    },
    {
      "cell_type": "markdown",
      "metadata": {
        "id": "joETfZhfMy5R",
        "colab_type": "text"
      },
      "source": [
        "Run this cell to generate a 3-D plot of ethanol, where the atoms comprising the dihedral torsion are labeled by their corresponding atomic indices, and are named with reference to the rotate_bond and get_dihedral functions. \n",
        "\n",
        "We will be rotating the alchoholic hydrogen, or 'arm' (#8) around the #4-#7 bond axis formed by the 'pivot' oxygen and 'reference' carbon, which will change the #1-#4-#7-#8 dihedral angle.  \n",
        "\n",
        "Feel free to alter the view angles on the plot, as highlighted below.\n",
        "\n"
      ]
    },
    {
      "cell_type": "code",
      "metadata": {
        "id": "ySDOR6sq1srk",
        "colab_type": "code",
        "outputId": "fe2fa2a9-ed5b-495e-b586-e243f40d0d22",
        "colab": {
          "base_uri": "https://localhost:8080/",
          "height": 252
        }
      },
      "source": [
        "fig = plt.figure()\n",
        "ax = fig.gca(projection='3d')\n",
        "\n",
        "ax.plot([coords[1][0], coords[4][0]], [coords[1][1], coords[4][1]],[coords[1][2], coords[4][2]])\n",
        "ax.plot([coords[7][0], coords[4][0]], [coords[7][1], coords[4][1]],[coords[7][2], coords[4][2]])\n",
        "ax.plot([coords[7][0], coords[8][0]], [coords[7][1], coords[8][1]],[coords[7][2], coords[8][2]])\n",
        "for c_index, coord in enumerate(coords):\n",
        "  if c_index == 8:\n",
        "    ax.text(coord[0], coord[1], coord[2]-0.3,  '%s' % (str(c_index))+' \"arm\"', size=15, zorder=1, color='k') \n",
        "  if c_index == 7:\n",
        "    ax.text(coord[0], coord[1], coord[2]+0.4,  '%s' % (str(c_index))+' \"pivot\"', size=15, zorder=1, color='k') \n",
        "  if c_index == 4:\n",
        "    ax.text(coord[0], coord[1], coord[2]+0.2,  '%s' % (str(c_index))+' \"ref\"', size=15, zorder=1, color='k') \n",
        "  if c_index == 1:\n",
        "    ax.text(coord[0], coord[1], coord[2]+0.2,  '%s' % (str(c_index))+' \"leg\"', size=15, zorder=1, color='k') \n",
        "    \n",
        "  if labels[c_index] == 'H':\n",
        "    ax.scatter(coord[0], coord[1], coord[2], color = 'green', s=100)\n",
        "  if labels[c_index] == 'C':\n",
        "    ax.scatter(coord[0], coord[1], coord[2], color = 'black', s=200)\n",
        "  if labels[c_index] == 'O':\n",
        "    ax.scatter(coord[0], coord[1], coord[2], color = 'blue', s=250)\n",
        "# You can change the elevation and azimuth angles to view the alchohol bond from different perspectives.    \n",
        "###\n",
        "  ax.view_init(elev=0., azim=80)\n",
        "###\n",
        "\n",
        "ax.set_title(\"Ethanol Dihedral Components\", size=20)\n",
        "fig.show()"
      ],
      "execution_count": 0,
      "outputs": [
        {
          "output_type": "display_data",
          "data": {
            "image/png": "[encoded data removed]",
            "text/plain": [
              "<Figure size 432x288 with 1 Axes>"
            ]
          },
          "metadata": {
            "tags": [],
            "needs_background": "light"
          }
        }
      ]
    },
    {
      "cell_type": "markdown",
      "metadata": {
        "id": "FTitA05ySD6H",
        "colab_type": "text"
      },
      "source": [
        "The rotate_bond function requires that the pivot point be set at [0,0,0]. Therefore, we first recenter the ethanol coordinates with respect to the oxygen:\n",
        "\n"
      ]
    },
    {
      "cell_type": "code",
      "metadata": {
        "id": "IxmiWRDnfeW3",
        "colab_type": "code",
        "cellView": "code",
        "colab": {}
      },
      "source": [
        "coords = center_atom(7, coords)"
      ],
      "execution_count": 0,
      "outputs": []
    },
    {
      "cell_type": "markdown",
      "metadata": {
        "id": "5ogAXcTySwWB",
        "colab_type": "text"
      },
      "source": [
        "We then pass in the 'arm', 'pivot', and 'reference' atom indices into the rotate_bond function, along with the molecular coordinates and bond rotation angle. The function returns the updated set of coordinates."
      ]
    },
    {
      "cell_type": "code",
      "metadata": {
        "id": "ATPzz1lGSxz2",
        "colab_type": "code",
        "colab": {}
      },
      "source": [
        "coords_new = rotate_bond(8, 7, 4, np.pi/3, coords)\n",
        "#Experiment by passing in various rotation angles"
      ],
      "execution_count": 0,
      "outputs": []
    },
    {
      "cell_type": "markdown",
      "metadata": {
        "id": "zYrKJuLPX1XW",
        "colab_type": "text"
      },
      "source": [
        "The dihedral angle can be generated at any point by passing in the coordinates of the 'pivot', 'reference', 'arm', and 'leg' atoms to the get_dihedral function. Ensure that the coordinates passed in are the updated coordinates."
      ]
    },
    {
      "cell_type": "code",
      "metadata": {
        "id": "HtswovAuXzUp",
        "colab_type": "code",
        "outputId": "236ed538-8949-4f0c-f629-2a8305dd56fe",
        "colab": {
          "base_uri": "https://localhost:8080/",
          "height": 51
        }
      },
      "source": [
        "theta_dihedral = get_dihedral(coords_new[7], coords_new[4], coords_new[8], coords_new[1])\n",
        "\n",
        "# Print various dihedral angles for different rotation angles, and note the relationship"
      ],
      "execution_count": 0,
      "outputs": [
        {
          "output_type": "stream",
          "text": [
            "1.0471975511965976\n",
            "-1.0445434806179872\n"
          ],
          "name": "stdout"
        }
      ]
    },
    {
      "cell_type": "markdown",
      "metadata": {
        "id": "bbV93cAS74e6",
        "colab_type": "text"
      },
      "source": [
        "In this case, we note that the rotation angle and dihedral angle differ by $\\pi$ radians, as the initial angle in the xyz file is at the dihedral energy minimum. One can therefore simply subtract the rotation angle by $\\pi$ radians to achieve the dihedral angle."
      ]
    },
    {
      "cell_type": "markdown",
      "metadata": {
        "id": "SxW6bAEJZGqQ",
        "colab_type": "text"
      },
      "source": [
        "Run the cell below to generate a 3-D plot of the updated ethanol molecule, and check to see the rotated O-H bond. "
      ]
    },
    {
      "cell_type": "code",
      "metadata": {
        "id": "B4z-H5XIak0M",
        "colab_type": "code",
        "outputId": "5a2f260e-e2c0-4fef-a930-999bff8141ad",
        "colab": {
          "base_uri": "https://localhost:8080/",
          "height": 274
        }
      },
      "source": [
        "fig = plt.figure()\n",
        "ax = fig.gca(projection='3d')\n",
        "ax.plot([coords[1][0], ref[0]], [coords[1][1], ref[1]],[coords[1][2], ref[2]])\n",
        "ax.plot([pivot[0], ref[0]], [pivot[1], ref[1]],[pivot[2], ref[2]])\n",
        "ax.plot([pivot[0], arm[0]], [pivot[1], arm[1]],[pivot[2], arm[2]])\n",
        "\n",
        "ax.plot([coords_new[1][0], coords_new[4][0]], [coords_new[1][1], coords[4][1]],[coords[1][2], coords[4][2]])\n",
        "ax.plot([coords_new[7][0], coords_new[4][0]], [coords_new[7][1], coords[4][1]],[coords[7][2], coords[4][2]])\n",
        "ax.plot([coords_new[7][0], coords_new[8][0]], [coords_new[7][1], coords[8][1]],[coords[7][2], coords[8][2]])\n",
        "for c_index, coord in enumerate(coords_new):\n",
        "\n",
        "  if labels[c_index] == 'H':\n",
        "    ax.scatter(coord[0], coord[1], coord[2], color = 'green', s=100)\n",
        "  if labels[c_index] == 'C':\n",
        "    ax.scatter(coord[0], coord[1], coord[2], color = 'black', s=200)\n",
        "  if labels[c_index] == 'O':\n",
        "    ax.scatter(coord[0], coord[1], coord[2], color = 'blue', s=250)\n",
        "  ax.view_init(elev=0., azim=80)\n",
        "ax.set_title(\"Dihedral Rotation\"+ '\\n'+\" of Alchoholic Hydrogen\"+ '\\n'+'in Ethanol', size=20)\n",
        "fig.show()"
      ],
      "execution_count": 0,
      "outputs": [
        {
          "output_type": "display_data",
          "data": {
            "image/png": "[encoded data removed]",
            "text/plain": [
              "<Figure size 432x288 with 1 Axes>"
            ]
          },
          "metadata": {
            "tags": [],
            "needs_background": "light"
          }
        }
      ]
    },
    {
      "cell_type": "markdown",
      "metadata": {
        "id": "xcMrOZ2mZbzw",
        "colab_type": "text"
      },
      "source": [
        "You can check to ensure that you centered the molecule correctly by comparing the O-H bond length before and after rotation. It should be the same."
      ]
    },
    {
      "cell_type": "code",
      "metadata": {
        "id": "DM67HydOlT1A",
        "colab_type": "code",
        "outputId": "7a943a1f-2fc4-4bee-bf78-4d80ffe14989",
        "colab": {
          "base_uri": "https://localhost:8080/",
          "height": 51
        }
      },
      "source": [
        "#Change the coordinates list to a numpy array, so that the norm function can be called\n",
        "coords = np.asarray(coords)\n",
        "#print the O-H bond length of the original coordinates\n",
        "print(np.linalg.norm(coords[8]-coords[7]))\n",
        "#print the O-H bond length of the updated coordinates\n",
        "print(np.linalg.norm(coords_new[8]-coords_new[7]))"
      ],
      "execution_count": 0,
      "outputs": [
        {
          "output_type": "stream",
          "text": [
            "0.9472875012370849\n",
            "0.9472875012370849\n"
          ],
          "name": "stdout"
        }
      ]
    },
    {
      "cell_type": "markdown",
      "metadata": {
        "id": "NOTmOznnZ56u",
        "colab_type": "text"
      },
      "source": [
        "We can now generate a full dihedral potential by rotating the O-H bond at small increments over $2\\pi$ radians, and generating the molecular energy with PySCF at each increment. This will take a few seconds for the 100 iterations."
      ]
    },
    {
      "cell_type": "code",
      "metadata": {
        "id": "qZpS8doBRMXO",
        "colab_type": "code",
        "colab": {}
      },
      "source": [
        "# The list of angles by which the O-H bond will be rotated\n",
        "angles_list = np.linspace(0, 2*np.pi, 100) \n",
        "# The lists that will contain the dihedral angles and molecular energies for each rotation\n",
        "energy_list = []\n",
        "for angle in angles_list:\n",
        "  coords_new = rotate_bond(8, 7, 4, angle, coords)\n",
        "\n",
        "  #generate the correct input format for pyscf with the coords_to_input function\n",
        "  input_list = coords_to_input(coords_new, labels)\n",
        "\n",
        "  #generate the pyscf input molecule with a minimal basis set\n",
        "  mol = gto.M(atom=input_list, basis='sto3g', verbose=0)\n",
        "  #run the Restriced Hartree Fock energy calculation\n",
        "  mf = scf.RHF(mol).run()\n",
        "\n",
        "  #you can print out the total calculated molecular energy with the \n",
        "  #mf.energy_tot()\n",
        "  #function\n",
        "\n",
        "  energy_list.append(mf.energy_tot())\n"
      ],
      "execution_count": 0,
      "outputs": []
    },
    {
      "cell_type": "markdown",
      "metadata": {
        "id": "Gp42wHXAe6iq",
        "colab_type": "text"
      },
      "source": [
        "We can now plot the dihedral potential of the O-H rotation in ethanol by plotting the energy list with respect to the dihedral angle, which we generate by subtracting $\\pi$ from the angles list. "
      ]
    },
    {
      "cell_type": "code",
      "metadata": {
        "id": "6dEu6GPL1urt",
        "colab_type": "code",
        "outputId": "74c9c8c0-616e-4a31-a46a-36f2d6fcec9b",
        "colab": {
          "base_uri": "https://localhost:8080/",
          "height": 295
        }
      },
      "source": [
        "plt.plot(angles_list - np.pi, energy_list)\n",
        "plt.xticks([-np.pi, -1/2*np.pi, 0, np.pi/2, np.pi])\n",
        "plt.title('Dihedral Potential Curve')\n",
        "plt.ylabel('Energy (Ha)')\n",
        "plt.xlabel('Dihedral Angle (rad)')\n",
        "plt.show()\n"
      ],
      "execution_count": 0,
      "outputs": [
        {
          "output_type": "display_data",
          "data": {
            "image/png": "[encoded data removed]",
            "text/plain": [
              "<Figure size 432x288 with 1 Axes>"
            ]
          },
          "metadata": {
            "tags": [],
            "needs_background": "light"
          }
        }
      ]
    },
    {
      "cell_type": "markdown",
      "metadata": {
        "id": "B4wJleFNB4ZR",
        "colab_type": "text"
      },
      "source": [
        "Now it's your turn! Generate molecular energies for dihedral angle values of $\\frac{\\pi}{2}$, $\\frac{\\pi}{4}$, and $\\frac{\\pi}{6}$ radians."
      ]
    }
  ]
}
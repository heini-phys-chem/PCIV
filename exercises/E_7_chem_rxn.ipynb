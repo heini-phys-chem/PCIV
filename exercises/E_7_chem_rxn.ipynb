{
 "cells": [
  {
   "cell_type": "markdown",
   "metadata": {
    "colab_type": "text",
    "id": "stvxYYmrGHnA"
   },
   "source": [
    "# Exercise 7 - Chemical reactions\n",
    "*An example of how to use Pyscf to investigate chemical reaction.*\n",
    "\n",
    "\n",
    "---\n",
    "\n",
    "\n",
    "In this exercise, we will calculate energy change of reaction\n",
    "\n",
    "$C_6H_6$ + 6 $CH_4$ ---> 3 $C_2H_6$ + 3 $C_2H_4$\n",
    "\n",
    "at zero temperature. Here zero temperature means no energy contribution from nuclei, only from electrons. So this energy different is not about free energy difference. We can it is the potential energy difference between all the products and reactants. Potential energy of a chemical compound at a given structure is just a single point energy on potential energy surface in your previous exercises. “difference” is commonly defined as product energy minus reactant energy. Since all the energies come from the electronic contribution, no kinetic energy like zero point vibration energy of nuclei. In this sense, we say it is at zero temperature (temperature is a statistical result of many nuclear kinetic energies). This zero temperature concept has nothing to do with low temperature physics which is more about the condensed state behavior when the kinetic energy of nuclei is very low, like the famous Bose–Einstein condensate (BEC). We only care about electrons of the chemical compound in this exercise. "
   ]
  },
  {
   "cell_type": "markdown",
   "metadata": {
    "colab_type": "text",
    "id": "K_M2BLEgGHnE"
   },
   "source": [
    "## 1 - Bond Separation Reactions\n",
    "A bond separation reacfion is defined as the process in which a polyatomic molecule is separated into the simplest molecules containing the same component bonds. For example,\n",
    "\n",
    "$C_6H_6$ + 6 $CH_4$ ---> 3 $C_2H_6$ + 3 $C_2H_4$\n",
    "\n",
    "(i.e. you draw benzene with 3 C=C bonds, 3 C-C bonds, represented by 3 $C_2H_4$,\n",
    "3 $C_2H_4$). You need 6 $CH_4$ on the left hand side to restore correct stoichiometry.\n",
    "\n",
    "We will use this simple reaction as an example to see how to calculate the reaction energy."
   ]
  },
  {
   "cell_type": "markdown",
   "metadata": {
    "colab_type": "text",
    "id": "exszDAV7MzbO"
   },
   "source": [
    "## 2 - Simulation steps.\n",
    "When we input a structure of a chemical compound in quantum chemistry package (here is Pyscf), this structure is sometimes not the most stable one. Only stable structure is helpful since it exists a long time in reality. So we need to optimize its structure first. After having the stable structure, we will proceed, get the high accurate single point energy of this compound.\n",
    "The last step is just calculating the energy difference between products and reactants as mentioned above.\n",
    "\n",
    "In practice, structural optimization is less sensitive in the quantum chemistry methods comparing to the single point energy calculation. For a large molecule, it is more wise to optimize its structure first with a low level quantum chemistry method, find the most stable spatial structure. Based on the optimized structure, we could further calculate its total electronic energy using high level quantum chemistry method. This could reduce the amount of calculation.\n",
    "\n",
    "In our case, all the chemical compounds are very small and we might use high level quantum chemistry method all the way. I mention it here since it is a practical principle for larger system. \n",
    "\n",
    "(Please do ***pip install -U pyberny*** in python if you don't have pyberny.)\n",
    "\n",
    "The steps are as follows;\n",
    "\n",
    "1.   ***Initialized Pyscf.*** \n",
    "2.   ***Optimize the structure of $C_6H_6$, $CH_4$, $C_2H_6$, $C_2H_4$ with low level quantum chemistry methods (6-31g basis, RHF) to obtain their stable structures.*** \\\\\n",
    "3.   ***Calculate the total energies of $C_6H_6$, $CH_4$, $C_2H_6$, $C_2H_4$ as $E_{C_6H_6}$, $E_{CH_4}$, $E_{C_2H_6}$, $E_{C_2H_4}$  with high level quantum chemistry methods (ccpvdz basis, CCSD).***\n",
    "4.   ***The energy change is defined as*** \\\\\n",
    "      $\\Delta E_{react} = \\sum E_{products} - \\sum E_{reactants} = 3 E_{C_2H_6} + 3 E_{C_2H_4} - E_{C_6H_6} - 6 E_{CH_4}$ \n",
    "\n"
   ]
  },
  {
   "cell_type": "code",
   "execution_count": 0,
   "metadata": {
    "colab": {},
    "colab_type": "code",
    "id": "-X5IBv2wGHnH"
   },
   "outputs": [],
   "source": [
    "# code template \n",
    "\n",
    "from pyscf import gto, scf, cc\n",
    "from pyscf.geomopt.berny_solver import optimize\n",
    "\n",
    "# define the molecules\n",
    "mol = gto.Mole() # initialization\n",
    "mol.atom = '''C         -6.58370        5.00776        0.00000\n",
    "C         -7.67974        4.13826       -0.00000\n",
    "C         -7.47475        2.75432       -0.00000\n",
    "C         -6.17372        2.23988       -0.00000\n",
    "C         -5.07769        3.10938       -0.00000\n",
    "C         -5.28268        4.49332        0.00000\n",
    "H         -6.74229        6.07842        0.00000\n",
    "H         -4.43476        5.16599        0.00000\n",
    "H         -4.07118        2.71139       -0.00000\n",
    "H         -6.01513        1.16922       -0.00000\n",
    "H         -8.32267        2.08165       -0.00000\n",
    "H         -8.68625        4.53625       -0.00000''' # this is an initial structure of benzene\n",
    "\n",
    "mol.verbose = 0   # control contents of the output, you could try 0, 1, 3...\n",
    "mol.basis = '6-31g' # basis, obviously\n",
    "mol.build() \n",
    "\n",
    "# calculate the RHF energy of initial structure\n",
    "mf = mol.RHF().run()\n",
    "\n",
    "# optimize the initial structure\n",
    "mol_eq = optimize(mf)\n",
    "print(mol_eq.atom_coords()) \n",
    "\n",
    "# set a high level basis for optimized structure\n",
    "mol_eq.basis = 'ccpvdz'\n",
    "\n",
    "# first perform a RHF energy calculation of optimized structure\n",
    "mrhf = mol_eq.RHF().run()\n",
    "print('E(HF) = %g' % mrhf.e_tot)\n",
    "\n",
    "# CCSD is based on RHF energy calculation\n",
    "mcc = mrhf.CCSD().run()\n",
    "print('E(CCSD) = %g' % mcc.e_tot)"
   ]
  },
  {
   "cell_type": "markdown",
   "metadata": {
    "colab_type": "text",
    "id": "lNoW7P_VGHnY"
   },
   "source": [
    "# 3 - Tips about getting the coordinates of chemical compound.\n",
    "There are many ways you could try, including find the xyz format by Google... \n",
    "\n",
    "If you can't, you could use free Avogadro software (https://avogadro.cc/) to draw it yourself. Very straightforward to use, after drawing the structure, save it as .xyz format. Open this file as a text file and get the coordinates of each atom. \n",
    "Or you could use online service http://molview.org/  draw the structure and save it as MOL file. Open the MOL file as a text file and you could figure out the structure as well. \n",
    "\n",
    "\n",
    "You could test different methods to optimize the structure and perform single point energy calculation and see how sensitive of these methods to the structural optimization and single point energy.\n",
    "\n",
    "# 4 - Homework \n",
    "Please calculate the $\\Delta E_{react}$ yourself.\n",
    "You could use the code template above or write your own code from scratch. "
   ]
  }
 ],
 "metadata": {
  "colab": {
   "collapsed_sections": [],
   "name": "Exercise 7 - Chemical reactions.ipynb",
   "provenance": []
  },
  "kernelspec": {
   "display_name": "Python 3",
   "language": "python",
   "name": "python3"
  },
  "language_info": {
   "codemirror_mode": {
    "name": "ipython",
    "version": 3
   },
   "file_extension": ".py",
   "mimetype": "text/x-python",
   "name": "python",
   "nbconvert_exporter": "python",
   "pygments_lexer": "ipython3",
   "version": "3.7.3"
  }
 },
 "nbformat": 4,
 "nbformat_minor": 1
}

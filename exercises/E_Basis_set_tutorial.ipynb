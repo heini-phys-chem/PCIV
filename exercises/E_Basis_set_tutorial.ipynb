{
 "cells": [
  {
   "cell_type": "code",
   "execution_count": 1,
   "metadata": {},
   "outputs": [],
   "source": [
    "import numpy as np\n",
    "from matplotlib import pyplot as plt\n",
    "import pyscf"
   ]
  },
  {
   "cell_type": "code",
   "execution_count": 2,
   "metadata": {},
   "outputs": [
    {
     "data": {
      "text/plain": [
       "120"
      ]
     },
     "execution_count": 2,
     "metadata": {},
     "output_type": "execute_result"
    }
   ],
   "source": [
    "np.math.factorial(5)"
   ]
  },
  {
   "cell_type": "markdown",
   "metadata": {},
   "source": [
    "https://www.schulz.chemie.uni-rostock.de/storages/uni-rostock/Alle_MNF/Chemie_Schulz/Computerchemie_3/basis_sets.pdf\n",
    "https://en.wikipedia.org/wiki/Spherical_harmonics <br>\n",
    "http://vergil.chemistry.gatech.edu/courses/chem6485/pdf/basis-sets.pdf <br>\n",
    "https://en.wikipedia.org/wiki/Hydrogen-like_atom <br>\n",
    "http://www.umich.edu/~chem461/QMChap7.pdf <br>\n",
    "https://en.wikipedia.org/wiki/STO-nG_basis_sets<br>"
   ]
  },
  {
   "cell_type": "code",
   "execution_count": 3,
   "metadata": {},
   "outputs": [
    {
     "data": {
      "text/plain": [
       "'A electron of course posses also a spin moment, therefore when spin-spin interactions are present we need to include the spin coordinate $\\\\sigma$ which can assume the values of $+ \\x0crac{1}{2}$,$- \\x0crac{1}{2}$ .<br>\\nTherefore the generalize coordinate for one electron is $\\\\mathbf{x}=<x,y,z,\\\\sigma>$'"
      ]
     },
     "execution_count": 3,
     "metadata": {},
     "output_type": "execute_result"
    }
   ],
   "source": [
    "\"\"\"A electron of course posses also a spin moment, therefore when spin-spin interactions are present we need to include the spin coordinate $\\sigma$ which can assume the values of $+ \\frac{1}{2}$,$- \\frac{1}{2}$ .<br>\n",
    "Therefore the generalize coordinate for one electron is $\\mathbf{x}=<x,y,z,\\sigma>$\"\"\""
   ]
  },
  {
   "cell_type": "markdown",
   "metadata": {},
   "source": [
    "# The need for a Basis Set"
   ]
  },
  {
   "cell_type": "markdown",
   "metadata": {},
   "source": [
    "Quantum Chemistry can  be described as the attempt to approximate the exact solutions of the Schroedinger's equation. <br>\n",
    "In very few cases exists an analytical solution, in many other a numerical approximation is required. <br> \n",
    "For a one elecron system the time independent Schroedinger's equation in atomic units is :\n",
    "$$\\left[-\\frac{\\nabla^2}{2}+\\hat{V}_{ext}\\right] \\Psi(\\mathbf{r}) =E \\ \\Psi(\\mathbf{r}) $$"
   ]
  },
  {
   "cell_type": "markdown",
   "metadata": {},
   "source": [
    "The complexity of which is given from the fact that the equality should hold for every point in space; in standard coordinates the position of the electron is the vector $\\mathbf{r}=<x,y,z>$. <br>"
   ]
  },
  {
   "cell_type": "markdown",
   "metadata": {},
   "source": [
    "The equation for a system of N electrons gets even more complicated: \n",
    "$$\\left[-\\frac{\\nabla^2}{2}+\\hat{V}_{ext}+\\hat{V}_{ee}\\right] \\Psi(\\mathbf{r}_1,\\mathbf{r}_2,...,\\mathbf{r}_N) =E \\ \\Psi(\\mathbf{r}_1,\\mathbf{r}_2,...,\\mathbf{r}_N) $$\n",
    "Where for every electron i $\\mathbf{r_i}=<x_i,y_i,z_i>$ . <br>\n",
    "The problem involves 3N dimensions, that huge dimensionality makes Schroedinger equation impracticle to be solved \"point by point\" on a grid. If for instance we consider a water molecule (10 electrons) and we chose a grid size of 10 points per dimension, the total number of points on the grid would be $10^{30} $ , a number so huge that can not be allocated in any computer's RAM . "
   ]
  },
  {
   "cell_type": "markdown",
   "metadata": {},
   "source": [
    "# LCAO"
   ]
  },
  {
   "cell_type": "markdown",
   "metadata": {},
   "source": [
    "The first approximation is to consider the wavefuncion of N particle as a untisimmetrized combination of molecular orbitals,  in the case of a single Slater determinant:\n",
    "\n",
    "$$ \\Psi (\\mathbf{r}_1,\\mathbf{r}_2,...,\\mathbf{r}_N) =  N^{-\\frac {1}{2}} Det | \\varphi _{1} (\\mathbf{r}_1) \\varphi _{1} ( \\mathbf{r}_2), .. , \\varphi _{N} ( \\mathbf{r}_N) | \\\n",
    "$$"
   ]
  },
  {
   "cell_type": "markdown",
   "metadata": {},
   "source": [
    "The N particle wavefunction is decomposed in a product of N wavefunctions of a single particle $\\varphi _{i} (\\mathbf{r}_i)$ , in a molecular calculation those are called \" MOLECULAR ORBITALS\", those are function of just one 3D coordinate $\\mathbf{r}$.<br>\n",
    "In general is assume to know a little about the shape of those orbitals. <br>\n",
    "For molecules the orbitals can be approximated through linear combination of atomic orbitals 'LCAO':\n",
    "$$\n",
    "\\varphi_i^{M.O.}(\\mathbf{r})= \\sum_{j=1}^Mc_{ij} \\chi_j^{A.O.}(\\mathbf{r})\n",
    "$$"
   ]
  },
  {
   "cell_type": "markdown",
   "metadata": {},
   "source": [
    "The coefficients $c_{μi}$ are called molecular orbital expansion coefficients or simply MO coefficients.\n",
    "Usually the functions {$\\chi$} are located at the center of atoms and are therefore often called atomic basis functions, but since this is not generally true we shall more generally refer to it as the 'basis functions'. \n",
    "The number of basis functions $M$ is necessariliy greater than half the number of electrons $N/2$ (if we consider the spin), but in general is much grater than $N$, in fact adding more and more basis functions improves the solution."
   ]
  },
  {
   "cell_type": "markdown",
   "metadata": {},
   "source": [
    "The shape and the number of the basis set are reported in bibliography and are specific for each element, we shall now analyse the atomic orbitals construnction starting from the eigenfunction of the hydrogenoid atom. "
   ]
  },
  {
   "cell_type": "markdown",
   "metadata": {},
   "source": [
    "# Eigenfunctions of an hydrogenoid atom"
   ]
  },
  {
   "cell_type": "markdown",
   "metadata": {},
   "source": [
    "A hydrogen atom is a monoelectronic system where actually exist an analytic solution to Schroedinger's equation. Due to the spherical simmetry is convinient to move to a spherical coordinate system $r , \\theta, \\phi$ .\n",
    "The potential energy operator is now a function of only the radial distrìance $\\hat{V}=-\\frac{1}{r}$ , the Laplacian operator for kinetic energy is $\\nabla ^2 = {1 \\over r^{2}}{\\partial  \\over \\partial r}(r^{2}{\\partial  \\over \\partial r})+{1 \\over r^{2}\\sin \\theta }{\\partial  \\over \\partial \\theta }(\\sin \\theta {\\partial  \\over \\partial \\theta })+{1 \\over r^{2}\\sin ^{2}\\theta }{\\partial ^{2} \\over \\partial \\phi ^{2}}$. <br>\n",
    "The Schroedinger equation has than the following form:\n",
    "$$\n",
    "\\left[ - { 1 \\over {2r^2}} {\\partial  \\over \\partial r}(r^{2}{\\partial  \\over \\partial r})-{1 \\over r} \\right] \\Psi- { 1 \\over {2r^2}} \\left[{1 \\over \\sin \\theta }{\\partial  \\over \\partial \\theta }(\\sin \\theta {\\partial  \\over \\partial \\theta })+{1 \\over \\sin ^{2}\\theta }{\\partial ^{2} \\over \\partial \\phi ^{2}}  \\right] \\Psi = E \\Psi\n",
    "$$\n",
    "Can be rearranged into:\n",
    "$$\n",
    "\\left[{\\partial  \\over \\partial r}(r^{2}{\\partial  \\over \\partial r})+2r +2r^2 E\\right]\\Psi+ \\left[{1 \\over \\sin \\theta }{\\partial  \\over \\partial \\theta }(\\sin \\theta {\\partial  \\over \\partial \\theta })+{1 \\over \\sin ^{2}\\theta }{\\partial ^{2} \\over \\partial \\phi ^{2}}  \\right] \\Psi = 0\n",
    "$$"
   ]
  },
  {
   "cell_type": "markdown",
   "metadata": {},
   "source": [
    "The solutions of this equation can be obtained separating the variables and expressing the wavefunction as a product of two functions, one depending on $r$ and the other on $\\theta$ and $\\phi$:\n",
    "$$ \\Psi(r,\\theta,\\phi) =R(r) Y (\\theta,\\phi) $$\n",
    "Dividing the previous expression by $ \\Psi $ we can get the following pair of equation:\n",
    "$${1\\over R(r)}\\left[{\\partial  \\over \\partial r}(r^{2}{\\partial  \\over \\partial r})+2r +2r^2 E\\right]R(r)= \\ell(\\ell+1)$$\n",
    "\n",
    "$${1 \\over {Y (\\theta,\\phi)}} \\left[{1 \\over \\sin \\theta }{\\partial  \\over \\partial \\theta }(\\sin \\theta {\\partial  \\over \\partial \\theta })+{1 \\over \\sin ^{2}\\theta }{\\partial ^{2} \\over \\partial \\phi ^{2}}  \\right]Y (\\theta,\\phi) = - \\ell(\\ell+1)\n",
    "$$\n",
    "Those must be satifacted symoultaneously for some values of $\\ell $, which is a constant independent on $r,\\theta,\\phi$"
   ]
  },
  {
   "cell_type": "markdown",
   "metadata": {},
   "source": [
    "If $\\ell$ is a positive or zero integer number, the second equation possess $2\\ell+1$ linear independent solutions of the form:\n",
    "$$Y_{\\ell }^{m_\\ell}(\\theta ,\\phi )=e^{im\\phi }P_{\\ell }^{m_\\ell}(\\cos {\\theta })$$\n",
    "$P_{\\ell }^{m_\\ell}(\\cos {\\theta })$ is the associated Legendre polynomial, $m_\\ell$ is a integer  $-\\ell\\le m_\\ell \\le \\ell$ . <br>\n",
    "For every pair $(m_\\ell,\\ell)$ exists an unique solution, those are the magnetic and the angular quantum numbers for the H atom.\n",
    "The angular quantum number $\\ell$ defines the type of the orbital ($s,p,d,f,..$) as well as the magnitude of the orbital spin, while the magnetic quantum number defines the orientation of the magnetic dipole (eg. $p_x,p_y,p_z$) as well as his component along the z-axis."
   ]
  },
  {
   "cell_type": "markdown",
   "metadata": {},
   "source": [
    "The radial part of the wavefunction has solutions on the form:\n",
    "$$ R_{n,\\ell}(r)=N_{\\ell,n} L^{2\\ell+1}_{n-\\ell-1} \\left({2r/ n} \\right) r^{\\ell}e^{-r/n}\n",
    "$$\n",
    "The normalization coefficient has form:\n",
    "$$ N_{n,\\ell}(r)=\\sqrt{\\frac{(n-l-1)!}{(n+l)!}} \\left(\\frac{2^{\\ell+1}}{n^{\\ell+2}}\\right)\n",
    "$$\n",
    "$L^{2\\ell+1}_{n-\\ell-1} $is the generalised Laguerre polynomial.\n",
    "$$\n",
    " L_a^{b} (x) = \\sum_{i=0}^a (-1)^i {a+b \\choose a-i} \\frac{x^i}{i!} \n",
    "$$\n",
    "thus:\n",
    "$$L_{n-\\ell-1}^{2\\ell+1} (x) = \\sum_{i=0}^{n-\\ell-1} (-1)^i {n+\\ell \\choose n-\\ell-1-i} \\frac{x^i}{i!} \n",
    "$$\n",
    "${n+\\ell \\choose n-\\ell-1-i}$ is a generalized binomial coefficient: $ {a \\choose b} = \\frac{a! }{b ! (a-b) !}$"
   ]
  },
  {
   "cell_type": "markdown",
   "metadata": {},
   "source": [
    "The generalized Laguerre polynomials are polimonials of degree $n-\\ell-1$, they possess $n-\\ell-1$ solutions (values of $r$ for which the polinomial is zero), $R_{n,\\ell}(r)$ is also zero for $r=0$ for every $\\ell \\gt 0$  .<br>\n",
    "The Laguerre polynomials are defined only if  $n-\\ell-1 \\gt 0$, so it comes the condition $ n \\gt \\ell$: the principal quantum number $n$ must be greater than the angular quantum number $\\ell$.\n",
    "Notice also that the Laguerre polinomial for a $1s$ orbital $L_0^1$ is just equal to 1.\n"
   ]
  },
  {
   "cell_type": "code",
   "execution_count": 4,
   "metadata": {},
   "outputs": [],
   "source": [
    "# Exercise for given n,l plot R_l,n for r in [0,2] Bohrs\n",
    "#use np.math.factorial , np.exp, double check the limit for the summation if you use np.range \n",
    "# check results at http://www.umich.edu/~chem461/QMChap7.pdf\n",
    "def binomial(a,b):\n",
    "    return int(np.math.factorial(a)/np.math.factorial(b)/np.math.factorial(a-b))"
   ]
  },
  {
   "cell_type": "code",
   "execution_count": 6,
   "metadata": {},
   "outputs": [],
   "source": [
    "def Laguerre(a,b,x): \n",
    "    res=0\n",
    "    for i in range (a+1):\n",
    "        res+=(-1)**i*binomial(a+b,a-i)*x**i/np.math.factorial(i)\n",
    "    return res"
   ]
  },
  {
   "cell_type": "code",
   "execution_count": 7,
   "metadata": {},
   "outputs": [],
   "source": [
    "def N(n,l):\n",
    "    return (np.sqrt(np.math.factorial(n-l-1) /np.math.factorial(n+l))*2**(l+1)/n**(l+2) )"
   ]
  },
  {
   "cell_type": "code",
   "execution_count": 8,
   "metadata": {},
   "outputs": [],
   "source": [
    "def R(n,l,r):\n",
    "    return N(n,l)*Laguerre(n-l-1,2*l+1,2*r/n)*r**l*np.exp(-r/n)"
   ]
  },
  {
   "cell_type": "code",
   "execution_count": 54,
   "metadata": {},
   "outputs": [
    {
     "data": {
      "image/png": "[encoded data removed]",
      "text/plain": [
       "<Figure size 1080x432 with 6 Axes>"
      ]
     },
     "metadata": {
      "needs_background": "light"
     },
     "output_type": "display_data"
    }
   ],
   "source": [
    "fig,axs=plt.subplots(2,3,figsize=(15,6))\n",
    "axs[0][0].plot(np.linspace(0,20,100),[R(1,0,x) for x in np.linspace(0,20,100)],label='1s')\n",
    "axs[0][1].plot(np.linspace(0,20,100),[R(2,0,x) for x in np.linspace(0,20,100)],label='2s')\n",
    "axs[0][2].plot(np.linspace(0,20,100),[R(3,0,x) for x in np.linspace(0,20,100)],label='3s')\n",
    "\n",
    "axs[1][0].plot(np.linspace(0,20,100),[R(2,1,x) for x in np.linspace(0,20,100)],label='2p')\n",
    "axs[1][1].plot(np.linspace(0,20,100),[R(3,1,x) for x in np.linspace(0,20,100)],label='3p')\n",
    "axs[1][2].plot(np.linspace(0,20,100),[R(3,2,x) for x in np.linspace(0,20,100)],label='3d')\n",
    "\n",
    "for ax in axs.flatten():\n",
    "    ax.legend()\n",
    "    ax.axhline(0,lw=.7,color='black')"
   ]
  },
  {
   "cell_type": "markdown",
   "metadata": {},
   "source": [
    "# Slater Type Orbitals  "
   ]
  },
  {
   "cell_type": "markdown",
   "metadata": {},
   "source": [
    "The solutions to the hydrogen analyzed before atom are the product of the angular and the radial functions times a normalization constant $N$:\n",
    "$$\n",
    "\\Psi_{n,\\ell,m_\\ell}(r,\\theta,\\phi) =N_{n,\\ell,m_\\ell} Y_{\\ell }^{m_\\ell}(\\theta ,\\phi )  L^{2\\ell+1}_{n-\\ell-1} \\left({2r/ n} \\right) r^{\\ell}e^{-r/n}\n",
    "$$\n",
    "Slater proposed in 1930 to use as atomic basis set for the atoms orbitals build up as:\n",
    "$$ \\chi^{STO}_{a,b,c}(x,y,z)= N x^ay^bz^c e^{-\\zeta r}\n",
    "$$\n",
    "where the sum $a+b+c$ equals the total angular momentum $\\ell$  and the exponent $\\zeta $ is a parameter which controls the width of the orbital. The coordinates $x,y,z$ are relative to the atom's nucleus."
   ]
  },
  {
   "cell_type": "markdown",
   "metadata": {},
   "source": [
    "If we compare those orbitals with the solution of the hydrogen atoms we can notice that the Legendre polynomials are no longer present, this simplification should not worry because for the description of polyelectronic atoms in the ground state there is no strict need for a radial nodal structure.<br>\n",
    "A second difference is that the pruduct of the spherical harmonics $Y_{\\ell }^{m_\\ell}(\\theta ,\\phi )$and the $r^\\ell$ function is condensed into the product of $x^ay^bz^c$"
   ]
  },
  {
   "cell_type": "markdown",
   "metadata": {},
   "source": [
    "For a $p$ orbital the functions $x,y,z$ can replace the spherical harmonic, this can be easily verified (normalization constants are omitted for simplicity):\n",
    "\n",
    "\n",
    "$$r {1 \\over 2}(Y_1^{-1}\\left(\\theta\\phi)-Y_1^{1}(\\theta\\phi)\\right)= r sen(\\theta) {1 \\over 2}(e^{-i\\phi}+e^{i\\phi})=r sen(\\theta)cos(\\phi)=x $$\n",
    "$$r {i \\over 2}(Y_1^{-1}\\left(\\theta\\phi)+Y_1^{1}(\\theta\\phi)\\right)= r sen(\\theta) {i \\over 2}(e^{-i\\phi}-e^{i\\phi})=r sen(\\theta)sen(\\phi)=y $$\n",
    "$$ rY_1^0(\\theta\\phi)=rcos(\\theta)=z$$"
   ]
  },
  {
   "cell_type": "markdown",
   "metadata": {},
   "source": [
    "For $d$ orbitals we know there should be 5 $d$ functions (usually chosen as $d_{xy},d_{xz},d_{yz},d_{z^2},d_{x^2-y^2}$); these are called “pure angular momentum” functions. Although some old (Gaussian) basis set such as the older Pople basis sets like 6-31G(d) were implemented with 6 $d$ basis functions ($d_{xy}, d_{xz}, d_{yz}, d_{z^2},d_{x^2},d_{y^2}$), this may lead to slight different results between between calculated results and literature values.\n",
    "The same descrepancy apply also for $f$ functions: it’s 7 versus 10 $f$ functions .\n",
    "Modern computers and modern basis sets are programmed to work with the correct number of pure angular momentum functions (5 for $d$ and 7 for $f$ orbitals)."
   ]
  },
  {
   "cell_type": "markdown",
   "metadata": {},
   "source": [
    "# Contracted Gaussian Type Orbitals "
   ]
  },
  {
   "cell_type": "markdown",
   "metadata": {},
   "source": [
    "The use of Gaussian orbitals in electronic structure theory (instead of the more physical Slater-type orbitals) was first proposed by Boys in 1950, a huge contribtion in the develop of the first efficient CGTOs was also due to John Pople. <br>\n",
    "The standard form for a contracted GTO is :\n",
    "$$\\chi^{CGTO}_{a,b,c}(x,y,z)=  x^ay^bz^c \\sum_i c_i e^{-\\zeta_i r^2}\n",
    "$$"
   ]
  },
  {
   "cell_type": "markdown",
   "metadata": {},
   "source": [
    "The CGTOs differs from the STOs because the exponential term is substituted by a sum of Gaussians; the coeffients $c_i$ as well as the exponents $\\zeta_i $ are tabulated and depend on the type of orbital, as well as on the type of atom the base function belong. The coefficients are usually scaled in the way that the orbital is normalized $\\int d \\mathbf{r} \\chi^2(\\mathbf{r}) =1$ <br>  \n",
    "The reasons for using a contraction of gaussians is to be found in the calculation of the electronic integrals. <br>\n",
    "At the beginning of every QM calculation the software computes at least 4 matrices (overlap, kinetic, nuclear electron attraction, electron electron repulsion) that represent the relative operator in the AO basis set.\n",
    "$$S_{ij}=\\int d\\mathbf{r}{\\chi_i(\\mathbf{r})}{\\chi_j(\\mathbf{r})}$$\n",
    "$$T_{ij}=\\int d\\mathbf{r}{\\chi_i(\\mathbf{r})} {- \\nabla^2 \\over 2} {\\chi_j(\\mathbf{r})}$$\n",
    "$$V^{ne}_{ij}=\\int d\\mathbf{r}{\\chi_i(\\mathbf{r})} V(\\mathbf{r}) {\\chi_j(\\mathbf{r})} $$\n",
    "$$V^{ee}_{ijkl}=\\int d\\mathbf{r_1}d\\mathbf{r_2} \\chi_i(\\mathbf{r_1}) \\chi_j(\\mathbf{r_2}) {1 \\over {|\\mathbf{r_1}-\\mathbf{r_2}|}} \\chi_k(\\mathbf{r_1}) {\\chi_l(\\mathbf{r_2})}$$"
   ]
  },
  {
   "cell_type": "markdown",
   "metadata": {},
   "source": [
    "The usage of contracted gaussian basis set can simplify the evaluation of those integrals, in particular the gaussian product theorem guarantees that the product of two GTOs centered on two different atoms is a finite sum of Gaussians centered on a point along the axis connecting them. In this manner, four-center integrals can be reduced to finite sums of two-center integrals, and in a next step to finite sums of one-center integrals. <br>\n"
   ]
  },
  {
   "cell_type": "markdown",
   "metadata": {},
   "source": [
    "# Types of basis sets"
   ]
  },
  {
   "cell_type": "markdown",
   "metadata": {},
   "source": [
    "- __Minimal:__  One basis function for each atomic orbital in the atom\n",
    "- __Double-zeta__ (2$\\zeta$): Two basis function for each atomic orbital \n",
    "- __N-zeta__ (N$\\zeta$): N basis function for each atomic orbital \n",
    "- __split valence__: only one basis function for each core AO, and a larger basis for the valence AO’s\n"
   ]
  },
  {
   "cell_type": "markdown",
   "metadata": {},
   "source": [
    "In addition to the orbitals of each elements some basis also inlude additional  __Polarization__ and __Diffuse__ functions.<br>\n",
    "In general, a basis function with angular momentum $\\ell$, can be polarized by mixing with basis functions of angular momentum $\\ell+1$ , as an example on a atom carbon the external $p$ orbitals can be polarized if we include in its basis set a complete set of $d$ orbitals as polarization functions, those add more angular flexibility to the basis set and improve the accuracy of the calculations. <br>\n",
    "The diffuse functions have small $\\zeta$ exponents; this means the electron is held far away from the nucleus. <br>\n",
    "Diffuse functions are needed for describing anions and atoms with an high electronegativity such as fluorine, are also required for the accurate calculation of polarizabilities or binding energies of van der Waals complexes."
   ]
  },
  {
   "cell_type": "markdown",
   "metadata": {},
   "source": [
    "## STO-nG are minimal CGTOs' basis sets"
   ]
  },
  {
   "cell_type": "markdown",
   "metadata": {},
   "source": [
    "The simplest and oldest contracted gaussians basis sets are the STO-nG (STO-3G,STO-6G) basis sets.\n",
    "In an STO-nG basis set every orbital has a radial function represented by the contraction of n Gaussians (nG), chosen to mimic the behavior of a STO (interpolating the exponential function). <br>\n",
    "STO-nG are minimal basis set, it means that has one basis function for each atomic orbital in the atom; hydrogen and helium  atoms have only the $1s$ orbital, atoms in the second period Li-Ne have 5 orbitals $1s,2s,2p_x,2p_y,2p_z$"
   ]
  },
  {
   "cell_type": "markdown",
   "metadata": {},
   "source": [
    "A database for the basis set coefficients can be found at https://www.basissetexchange.org, the standard format for a basis set is the NWChem format.<br>\n",
    "The contraction scheme for H ((3s) -> [1s] ) means that three Gaussians are contracted in one orbital , the $\\zeta$ exponents are enlisted on the left column, while the coefficients of the contraction are on the right column. The exponents and the coefficients are in atomic units. <br>\n",
    "The contraction scheme for C ( (6s,3p) -> [2s,1p] ) means that 6 gaussian can be contracted in 2 $s$ orbitals (3 and 3), 3 other gaussians are contracted in one set of $p$ orbitals, of course this means that we will have in this set $p_x,p_y,p_z$ orbitals sharing the same radial function. The 'SP' label in the second block of coefficients means that $2s$ and $2p$ orbitals share the same exponents listed in the first column of the table, the coefficients for the $s$ orbital are in the second column and the ones for the $p$ orbitals are in the third column.<br> "
   ]
  },
  {
   "cell_type": "raw",
   "metadata": {},
   "source": [
    "#----------------------------------------------------------------------\n",
    "# Basis Set Exchange\n",
    "# Version v0.8.12\n",
    "# https://www.basissetexchange.org\n",
    "#----------------------------------------------------------------------\n",
    "#   Basis set: STO-3G\n",
    "# Description: STO-3G Minimal Basis (3 functions/AO)\n",
    "#        Role: orbital\n",
    "#     Version: 1  (Data from Gaussian09)\n",
    "#----------------------------------------------------------------------\n",
    "\n",
    "#BASIS SET: (3s) -> [1s]\n",
    "H    S\n",
    "      0.3425250914E+01       0.1543289673E+00\n",
    "      0.6239137298E+00       0.5353281423E+00\n",
    "      0.1688554040E+00       0.4446345422E+00\n",
    "      \n",
    "#BASIS SET: (6s,3p) -> [2s,1p]\n",
    "C    S\n",
    "      0.7161683735E+02       0.1543289673E+00\n",
    "      0.1304509632E+02       0.5353281423E+00\n",
    "      0.3530512160E+01       0.4446345422E+00\n",
    "C    SP\n",
    "      0.2941249355E+01      -0.9996722919E-01       0.1559162750E+00\n",
    "      0.6834830964E+00       0.3995128261E+00       0.6076837186E+00\n",
    "      0.2222899159E+00       0.7001154689E+00       0.3919573931E+00"
   ]
  },
  {
   "cell_type": "markdown",
   "metadata": {},
   "source": [
    "PySCF contains in its libraries the same coefficients in an internal format"
   ]
  },
  {
   "cell_type": "code",
   "execution_count": 12,
   "metadata": {},
   "outputs": [],
   "source": [
    "H=pyscf.gto.M(atom=\"H 0 0 0\",basis=\"STO-3G\",spin=1) # spin = number of unpaired electrons in the ground state \n",
    "C=pyscf.gto.M(atom=\"C 0 0 0\",basis=\"STO-3G\",spin=4)"
   ]
  },
  {
   "cell_type": "code",
   "execution_count": 13,
   "metadata": {},
   "outputs": [
    {
     "name": "stdout",
     "output_type": "stream",
     "text": [
      "{'H': [[0, [3.42525091, 0.15432897], [0.62391373, 0.53532814], [0.1688554, 0.44463454]]]}\n",
      "{'C': [[0, [71.616837, 0.15432897], [13.045096, 0.53532814], [3.5305122, 0.44463454]], [0, [2.9412494, -0.09996723], [0.6834831, 0.39951283], [0.2222899, 0.70011547]], [1, [2.9412494, 0.15591627], [0.6834831, 0.60768372], [0.2222899, 0.39195739]]]}\n"
     ]
    },
    {
     "data": {
      "text/plain": [
       "(None, None)"
      ]
     },
     "execution_count": 13,
     "metadata": {},
     "output_type": "execute_result"
    }
   ],
   "source": [
    "print(H._basis),print(C._basis)"
   ]
  },
  {
   "cell_type": "markdown",
   "metadata": {},
   "source": [
    "Coefficients and exponents can be obtained separately, is required to pass as argument the index of the AO function"
   ]
  },
  {
   "cell_type": "code",
   "execution_count": 14,
   "metadata": {},
   "outputs": [
    {
     "name": "stdout",
     "output_type": "stream",
     "text": [
      "[0.15432897 0.53532814 0.44463454]\n",
      "[3.42525091 0.62391373 0.1688554 ]\n"
     ]
    }
   ],
   "source": [
    "print(H.bas_ctr_coeff(0).flatten())\n",
    "print(H.bas_exp(0))"
   ]
  },
  {
   "cell_type": "code",
   "execution_count": 27,
   "metadata": {},
   "outputs": [
    {
     "data": {
      "text/plain": [
       "1.0"
      ]
     },
     "execution_count": 27,
     "metadata": {},
     "output_type": "execute_result"
    }
   ],
   "source": [
    "C=H.bas_ctr_coeff(0).flatten()\n",
    "Z=H.bas_exp(0)\n",
    "n=0\n",
    "for i in range(3):\n",
    "    for j in range(3):\n",
    "       # print(n)\n",
    "        n+= C[i]*C[j]* ((2*Z[i])**0.75*(2*Z[j])**0.75)/(Z[i]+Z[j])**1.5\n",
    "n"
   ]
  },
  {
   "cell_type": "code",
   "execution_count": 25,
   "metadata": {},
   "outputs": [
    {
     "data": {
      "text/plain": [
       "0.5080935272469658"
      ]
     },
     "execution_count": 25,
     "metadata": {},
     "output_type": "execute_result"
    }
   ],
   "source": [
    "C=H.bas_ctr_coeff(0).flatten()\n",
    "Z=H.bas_exp(0)\n",
    "n=0\n",
    "for i in range(3):\n",
    "    for j in range(3):\n",
    "       # print(n)\n",
    "        n+= C[i]*C[j]\n",
    "C[1]**2+C[2]**2+C[0]**2"
   ]
  },
  {
   "cell_type": "markdown",
   "metadata": {},
   "source": [
    "## Exercise 2 : \n",
    "plot the radial function as well as the radial distribution of the $1s$ orbital for the STO-3G basis set and compare them to the one obtained from the analytical solution of the Hydrogen atom. "
   ]
  },
  {
   "cell_type": "code",
   "execution_count": 28,
   "metadata": {},
   "outputs": [],
   "source": [
    "def cgto(r,mol):\n",
    "    f=0\n",
    "    for i in range(H.bas_exp(0).size):\n",
    "        f+=H.bas_ctr_coeff(0)[i][0]*(2*H.bas_exp(0)[i]/np.pi)**0.75* np.exp(- H.bas_exp(0)[i] *r**2)\n",
    "    return (f)"
   ]
  },
  {
   "cell_type": "code",
   "execution_count": 29,
   "metadata": {},
   "outputs": [
    {
     "data": {
      "text/plain": [
       "0.22303582712193068"
      ]
     },
     "execution_count": 29,
     "metadata": {},
     "output_type": "execute_result"
    }
   ],
   "source": [
    "cgto(1,H)"
   ]
  },
  {
   "cell_type": "code",
   "execution_count": 30,
   "metadata": {},
   "outputs": [],
   "source": [
    "def rad_dens(r):\n",
    "    return (4*np.pi*r**2*cgto(r,H)**2)"
   ]
  },
  {
   "cell_type": "code",
   "execution_count": 39,
   "metadata": {},
   "outputs": [
    {
     "data": {
      "text/plain": [
       "<matplotlib.legend.Legend at 0x7ff8e4f87190>"
      ]
     },
     "execution_count": 39,
     "metadata": {},
     "output_type": "execute_result"
    },
    {
     "data": {
      "image/png": "[encoded data removed]",
      "text/plain": [
       "<Figure size 432x288 with 1 Axes>"
      ]
     },
     "metadata": {
      "needs_background": "light"
     },
     "output_type": "display_data"
    }
   ],
   "source": [
    "plt.plot(np.linspace(0,5,50),[rad_dens(x) for x in np.linspace(0,5,50)],label='STO-3G')\n",
    "plt.plot(np.linspace(0,5,50),[4*x**2*np.exp(-2*x) for x in np.linspace(0,5,50)],label='analytical')\n",
    "plt.legend()"
   ]
  },
  {
   "cell_type": "code",
   "execution_count": 37,
   "metadata": {},
   "outputs": [
    {
     "data": {
      "text/plain": [
       "[<matplotlib.lines.Line2D at 0x7ff8e5081850>]"
      ]
     },
     "execution_count": 37,
     "metadata": {},
     "output_type": "execute_result"
    },
    {
     "data": {
      "image/png": "[encoded data removed]",
      "text/plain": [
       "<Figure size 432x288 with 1 Axes>"
      ]
     },
     "metadata": {
      "needs_background": "light"
     },
     "output_type": "display_data"
    }
   ],
   "source": [
    "plt.plot(np.linspace(0,4,100),[cgto(x,H) for x in np.linspace(0,4,100)])\n",
    "plt.plot(np.linspace(0,4,100),[np.exp(-x)/np.sqrt(np.pi) for x in np.linspace(0,4,100)])"
   ]
  },
  {
   "cell_type": "code",
   "execution_count": 38,
   "metadata": {},
   "outputs": [
    {
     "data": {
      "text/plain": [
       "[<matplotlib.lines.Line2D at 0x7ff8e4ff9e50>]"
      ]
     },
     "execution_count": 38,
     "metadata": {},
     "output_type": "execute_result"
    },
    {
     "data": {
      "image/png": "[encoded data removed]",
      "text/plain": [
       "<Figure size 432x288 with 1 Axes>"
      ]
     },
     "metadata": {
      "needs_background": "light"
     },
     "output_type": "display_data"
    }
   ],
   "source": [
    "plt.plot(np.linspace(4,8,100),[cgto(x,H) for x in np.linspace(4,8,100)])\n",
    "plt.plot(np.linspace(4,8,100),[np.exp(-x)/np.sqrt(np.pi) for x in np.linspace(4,8,100)])"
   ]
  },
  {
   "cell_type": "markdown",
   "metadata": {},
   "source": [
    "# Pople's split valence Basis Sets\n",
    "One among the most used basis set is Pople’s split-valence double-zeta basis set called __6-31G__; the core orbital is a CGTO made of 6 Gaussians, and the valence is described by two orbitals, one CGTO made of 3 Gaussians, and one single Gaussian, as an example a H and a C atom:\n"
   ]
  },
  {
   "cell_type": "raw",
   "metadata": {},
   "source": [
    "#   Basis set: 6-31G\n",
    "# Description: 6-31G valence double-zeta\n",
    "#        Role: orbital\n",
    "#     Version: 1  (Data from Gaussian 09/GAMESS)\n",
    "#----------------------------------------------------------------------\n",
    "#BASIS SET: (4s) -> [2s]\n",
    "H    S\n",
    "      0.1873113696E+02       0.3349460434E-01\n",
    "      0.2825394365E+01       0.2347269535E+00\n",
    "      0.6401216923E+00       0.8137573261E+00\n",
    "H    S\n",
    "      0.1612777588E+00       1.0000000\n",
    "#BASIS SET: (10s,4p) -> [3s,2p]\n",
    "C    S\n",
    "      0.3047524880E+04       0.1834737132E-02\n",
    "      0.4573695180E+03       0.1403732281E-01\n",
    "      0.1039486850E+03       0.6884262226E-01\n",
    "      0.2921015530E+02       0.2321844432E+00\n",
    "      0.9286662960E+01       0.4679413484E+00\n",
    "      0.3163926960E+01       0.3623119853E+00\n",
    "C    SP\n",
    "      0.7868272350E+01      -0.1193324198E+00       0.6899906659E-01\n",
    "      0.1881288540E+01      -0.1608541517E+00       0.3164239610E+00\n",
    "      0.5442492580E+00       0.1143456438E+01       0.7443082909E+00\n",
    "C    SP\n",
    "      0.1687144782E+00       0.1000000000E+01       0.1000000000E+01"
   ]
  },
  {
   "cell_type": "markdown",
   "metadata": {},
   "source": [
    "The Hydrogen has a $1s$ orbital splitted in two basis functions, one made up by three gaussians, the other by only one. <br>\n",
    "The Carbon atom has the same double valence contraction scheme for $2s$ and $2p$ orbitals, the $1s$ orbital has only one basis function, made up by 6 gaussians."
   ]
  },
  {
   "cell_type": "markdown",
   "metadata": {},
   "source": [
    "Some improvement has been done on the 6-31G basis set \n",
    "- 6-31G* [or 6-31G(d)] is 6-31G with added d __polarization__ functions on non-hydrogen atoms; 6-31G* * [or 6-31G(d,p)] is 6-31G* plus p polarization functions for hydrogen\n",
    "- 6-311G is a split-valence triple-zeta basis; it adds one GTO to the valence of 6-31G\n",
    "- • 6-31+G is 6-31G plus __diffuse__ s and p functions for nonhydrogen atoms; 6-31++G has diffuse functions for hydrogen also."
   ]
  },
  {
   "cell_type": "markdown",
   "metadata": {},
   "source": [
    "# Dunning’s Correlation-Consistent Basis Sets "
   ]
  },
  {
   "cell_type": "markdown",
   "metadata": {},
   "source": [
    "Another widely used basis set family was propsed by Dunning with the aim to improve the quality of multiconfiguration calculations. The “correlation consistent” basis sets are optimized using correlated (CISD) wavefunctions. <br>\n",
    "The name cc-pVXZ means a Dunning correlation-consistent, polarized valence, X-zeta basis; X=D,T,Q,5,6,7.\n",
    "In these split-valence basis sets the polarization functions are added in shells, this means that for a carbon atom a cc-pVDZ the minimal basis set consists of 2s1p, cc-pVDZ is 3s2p1d, cc-pVTZ is 4s3p2d1f, cc-pVQZ is 5s4p3d2f1g.\n"
   ]
  },
  {
   "cell_type": "raw",
   "metadata": {},
   "source": [
    "#   Basis set: cc-pVDZ\n",
    "# Description: cc-pVDZ\n",
    "#        Role: orbital\n",
    "#     Version: 1  (Data from ccRepo/Grant Hill)\n",
    "#----------------------------------------------------------------------\n",
    "\n",
    "#BASIS SET: (4s,1p) -> [2s,1p]\n",
    "H    S\n",
    "      1.301000E+01           1.968500E-02           0.000000E+00\n",
    "      1.962000E+00           1.379770E-01           0.000000E+00\n",
    "      4.446000E-01           4.781480E-01           0.000000E+00\n",
    "      1.220000E-01           5.012400E-01           1.000000E+00\n",
    "H    P\n",
    "      7.270000E-01           1.0000000\n",
    "#BASIS SET: (9s,4p,1d) -> [3s,2p,1d]\n",
    "C    S\n",
    "      6.665000E+03           6.920000E-04          -1.460000E-04           0.000000E+00\n",
    "      1.000000E+03           5.329000E-03          -1.154000E-03           0.000000E+00\n",
    "      2.280000E+02           2.707700E-02          -5.725000E-03           0.000000E+00\n",
    "      6.471000E+01           1.017180E-01          -2.331200E-02           0.000000E+00\n",
    "      2.106000E+01           2.747400E-01          -6.395500E-02           0.000000E+00\n",
    "      7.495000E+00           4.485640E-01          -1.499810E-01           0.000000E+00\n",
    "      2.797000E+00           2.850740E-01          -1.272620E-01           0.000000E+00\n",
    "      5.215000E-01           1.520400E-02           5.445290E-01           0.000000E+00\n",
    "      1.596000E-01          -3.191000E-03           5.804960E-01           1.000000E+00\n",
    "C    P\n",
    "      9.439000E+00           3.810900E-02           0.000000E+00\n",
    "      2.002000E+00           2.094800E-01           0.000000E+00\n",
    "      5.456000E-01           5.085570E-01           0.000000E+00\n",
    "      1.517000E-01           4.688420E-01           1.000000E+00\n",
    "C    D\n",
    "      5.500000E-01           1.0000000\n"
   ]
  },
  {
   "cell_type": "markdown",
   "metadata": {},
   "source": [
    "In this file the first column is for the gaussian exponents, the other columns are the contraction coefficients for each CGTO."
   ]
  },
  {
   "cell_type": "markdown",
   "metadata": {},
   "source": [
    "Some important facts about cc basis sets:\n",
    "- The Dunning basis sets are designed to converge smoothly toward the complete (infinite) basis set limit\n",
    "- It is possible to extrapolate the results to approximate the basis set limit\n",
    "- Functions describing core correlation are denoted by the letter “C” in the cc-pCVXZ or aug-cc-pCVXZ basis sets; you should use basis sets like this if you do not freeze core electrons in post-Hartree-Fock computations like MP2,CISD, CCSD(T), etc.\n",
    "- A prefix “aug” means one set of diffuse functions is added for every angular momentum present in the basis; aug-cc-pVDZ for C atom has diffuse s,p,d"
   ]
  },
  {
   "cell_type": "raw",
   "metadata": {},
   "source": [
    "question:\n",
    "how many basis functions has a aug-ccpVTZ basis set for the H atom?\n",
    "solution: 4s3p2d\n",
    "how many basis functions has a 6-311G basis set for the C atom?\n",
    "solution: 4s3p"
   ]
  }
 ],
 "metadata": {
  "kernelspec": {
   "display_name": "Python 3",
   "language": "python",
   "name": "python3"
  },
  "language_info": {
   "codemirror_mode": {
    "name": "ipython",
    "version": 3
   },
   "file_extension": ".py",
   "mimetype": "text/x-python",
   "name": "python",
   "nbconvert_exporter": "python",
   "pygments_lexer": "ipython3",
   "version": "3.7.6"
  }
 },
 "nbformat": 4,
 "nbformat_minor": 4
}

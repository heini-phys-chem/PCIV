{
  "nbformat": 4,
  "nbformat_minor": 0,
  "metadata": {
    "colab": {
      "name": "ex1_hueckel_exercise.ipynb",
      "provenance": []
    },
    "kernelspec": {
      "name": "python3",
      "display_name": "Python 3"
    }
  },
  "cells": [
    {
      "cell_type": "markdown",
      "metadata": {
        "id": "0qT7lnrcg8Lx",
        "colab_type": "text"
      },
      "source": [
        "**1) Hückel Molecular Orbitals**\n",
        "\n",
        "Before getting started with this exercise, please make sure that you are familiar with the concept of determinants and eigenvalue theory. Have another look into the lecture - if necessary.\n",
        "\n",
        "**Introduction**\n",
        "\n",
        "The Hückel method was introduced in 1930 and it relies on linear combination of atomic orbitals (**LCAO**) to determine the energies of molecular orbitals. It is primarily used for conjugated $\\pi$-electron systems, since the Hückel method is most successful for planar molecules, where the $\\pi$-electrons are separable from the $\\sigma$-electrons since the orbitals are orthogonal (as an approximation which is never true in reality). The method is remarkably simple and gave qualitatively correct results at a time when treating a many electron system with a computer as we do today in modern quantum chemistry was not possible -- using only pen and paper. The main mathematical ingredient to Molecular Orbital theory is linear algebra and Eigenvalue theory. While the quantum methods that are being used in modern research such as density functional theoery (DFT), Møller–Plesset perturbation theory (MP) or coupled cluster are much more advanced and also more general than Hueckel they nevertheless use the same mathematical methods of linear algebra.\n",
        "\n",
        "\n",
        "**Eigenvectors and Eigenvectors**\n",
        "\n",
        "The Hückel method is based on **LCAO** which ultimately is justified by the linear nature of quantum mechanics and of the Schrödinger equation.\n",
        "We restrict to p-orbitals which shall span a complete basis of our Hilbert Space:\n",
        "\n",
        "> (1) $\\Psi = \\sum_i c_i \\phi_i$\n",
        "\n",
        "where $\\Psi$ is a molecular orbital, $\\phi_i$ are atomic p-orbitals, and $c_i$ are basis coefficients. It is very important to understand the concept of a basis. A basis is the minimal **AND** also the maximal set of state vectors $\\phi_i$ that can be used to construct **ANY** other state as a linear combination of the $\\phi_i$ vectors. We will see later on that the most natural choice of a basis is often the eigenvectors of the Hamilton operator. Furthermore in quantum mechanics one usually choses a maximal set of mutually commuting operators and then computes the eigenvectors of these operators. States constructed by a combination of these eigenvectors are eigenfunctions of **BOTH** operators. You may for example think about the total angular momentum operator and the Hamiltonian of the Hydrogen atom. In particular, a p-orbital is an eigenvector of the Hamiltonian **AND** of the total angular momentum operator with eigenvalue $\\sqrt{2} h$. Using the variational principle (a.k.a. Ritz method) it can be shown that the following relation holds,\n",
        "\n",
        "> (2) $(\\mathbf{H} - E \\cdot \\mathbf{S}) \\cdot \\mathbf{C} = 0$,\n",
        "\n",
        "where $\\mathbf{H}$ is the Hamilton operator, with elements $\\mathbf{H}_{ij} =  \\langle \\phi_i \\vert \\mathbf{H} \\vert \\phi_j \\rangle$ which forms an $M \\times M$ matrix with $M$ being the number of atomic orbitals considered, and $\\mathbf{H} = (\\mathbf{H}^T)^{*}$ so it is hermitian meaning eigenvalues are real and eigenvectors that belong to distinct eigenvalues are orthogonal. \n",
        "$\\mathbf{S}$ is the overlap matrix with elements $\\mathbf{S}_{ij}= \\langle \\phi_i \\vert \\phi_j \\rangle $ and finally $\\mathbf{C}$ is a column vector with coefficients $\\mathbf{C} = (c_{1}, c_{2}, \\dots, c_M)^T$. From linear algebra we know that Eq. (2) can only have a non-trivial solution if:\n",
        "\n",
        "> (3) $\\det(\\mathbf{H}-E \\cdot \\mathbf{S}) = 0$\n",
        "\n",
        "Expanding this determinant results in a polynomial of degree $M$ in $E$. \n",
        "To determine the eigenvalues, we have to solve the equation $P(E)=0$. The roots of this polynomial yield the eigenvalues = energies $E_i$ that correspond to the $M$ molecular orbitals. When the values $E_i$ have been determined, they can be substituted back into equation (2) and we can solve for the corresponding eigenvectors $\\mathbf{C}$. Note that we also have to ensure that the eigenvectors $\\mathbf{C}$ are normalized ($\\sum_i c_{i}^{2} = 1$, remember Born interpretation of the wave function/states in QM). This will provide us with the coefficients of the molecular orbitals. Furthermore the coefficients $c_i$ also define the shape of the orbitals and their phases. The final step is then filling up the orbitals with electrons starting with the lowest energy orbital with two electrons per orbital until all electrons are distributed.\n",
        "\n",
        "\n",
        "**Construction of Hückel Matrix**\n",
        "\n",
        " \n",
        "Before solving the eigenvalue Eq. (2) we must determine the entries of all matrices. We make the assumption that the overlap between atomic orbitals located at different sites is 0 (orthogonal) and it is 1 for the overlap of an orbital with itself (normalized). These two conditions are summarized using the Kronecker delta $\\delta_{ij}$\n",
        "\n",
        "> (4) $S_{ij} = \\delta_{ij}$\n",
        "\n",
        "Note that this is equivalent to defining $\\mathbf{S}$ as a diagonal matrix which is the identity w.r.t. matrix multiplication:\n",
        "\n",
        "> (5) $\\mathbf{S} =  {\\begin{pmatrix}1&0&\\cdots\\\\0&1&\\cdots\\\\ \\cdots&\\cdots&\\cdots\\end{pmatrix}} = \\mathbf{id}$\n",
        "\n",
        "\n",
        "Furthermore, we need to make additional assumptions about the entries of the Hamiltonian matrix, for simplicity we assume only two types of interactions:\n",
        "\n",
        "\n",
        "\n",
        "*  Diagonal entries $\\mathbf{H}_{ii}$ represent the interaction of an orbital with itself or in other words it is the local (*on-site*) energy contribution of an orbital at site $i$. These contributions are called Coulomb integrals and in the framework of Hueckel theory they are the same as the energy of an electron in a p-orbital and we label this energy value with $\\alpha$\n",
        "\n",
        "*  Off Diagonal entries $\\mathbf{H}_{ij}$ of the Hamiltonian Matrix which are also called resonance integrals, and they represent the strength of the $\\pi$-bonding between the orbitals which we shall label $\\beta$. In our simple model we consider only interaction between adjacent carbon atoms, otherwise we set $\\mathbf{H}_{ij}=0$.\n",
        "\n",
        "\n",
        "\n",
        "Considering these rules we find the following \"Hueckel\" matrix for 1,3 Butadiene:\n",
        "\n",
        "> (6) $\\mathbf{H} =  {\\begin{pmatrix}\\alpha&\\beta&0&0\\\\\\beta&\\alpha&\\beta&0 \\\\0 &\\beta &\\alpha& \\beta \\\\ 0&0&\\beta&\\alpha\\end{pmatrix}} $\n",
        "\n",
        "Having defined the entries of the matrices $\\mathbf{H}$ and $\\mathbf{S}$, we continue as described above and calculate the energies and corresponding molecular orbitals.\n",
        "\n",
        "Note that we did not assign values to $\\alpha$ and $\\beta$ yet. To get a qualitative understanding of the states of the system it is not necessary to know these values. However, estimations for $\\alpha$ and $\\beta$ can be obtained from spectroscopy experiments or more advanced *ab-initio* calculations such as DFT."
      ]
    },
    {
      "cell_type": "markdown",
      "metadata": {
        "id": "1ntGzRXvhDp8",
        "colab_type": "text"
      },
      "source": [
        "**EXAMPLE EXERCISE 1.1) Ethene**\n",
        "\n",
        "Before you proceed with the programming exercise, make sure that you can solve the problem with pen and paper, then follow these steps:\n",
        " \n",
        " \n",
        "1.  What is the number of Carbon atoms in the system?\n",
        "\n",
        "2.  Write down the $\\mathbf{H}$ and $\\mathbf{S}$ matrices\n",
        "\n",
        "3.  Write down the secular determinant\n",
        "\n",
        "4.  Use the following simplification: Divide the secular determinant by $\\beta$ and replace $\\frac{(\\alpha-E)}{\\beta}$ by $x$. This makes life easier since we now have a simple polynomial in $x$\n",
        "\n",
        "5.  Solve the determinant for $x$ and calculate the energy levels\n",
        "\n",
        "6.  Draw an energy diagram that shows the relative energy of each molecular orbital in comparison to the original atomic orbitals with respect to $\\alpha$ and $\\beta$. What happens if you increase $\\beta$ or if $\\beta \\rightarrow 0$?\n",
        "\n",
        "7. Fill the orbitals with electrons, which orbital is the HOMO which LUMO and what is the adsorption energy of the system?\n",
        "\n",
        "8. Compute the orbital coefficients for each energy level, by substituting the obtained energy values into equation (2) and using the normalization requirement of each molecular orbital. Why do we need to normalize the solution and how do the orbitals look like?"
      ]
    },
    {
      "cell_type": "markdown",
      "metadata": {
        "id": "PHuRJ7UchJoK",
        "colab_type": "text"
      },
      "source": [
        "**EXAMPLE SOLUTION 1.1) Ethene**\n",
        "### Ethene pen and paper solution for Eigenvalues\n",
        "\n",
        "Since the overlap matrix $\\textbf{S}$ is the identity matrix in the Hückel model, we can rewrite (2) as an eigenvalue problem:\n",
        "\n",
        "> (7) $\\textbf{H} \\textbf{C} = E \\textbf{C}$\n",
        "\n",
        "which become for ethene:\n",
        "\n",
        "> (8) $ \\begin{pmatrix}\n",
        "  \\alpha & \\beta \\\\\n",
        "  \\beta  & \\alpha\n",
        " \\end{pmatrix} \\textbf{C} = E \\textbf{C}$\n",
        "\n",
        "From this, we can obtain the energy levels as the eigenvalues of $\\textbf{H}$, and the coefficients of each molecular orbital from the corresponding eigenvectors. (Note: the equation in Eq. (2) can also be rewritten as an eigenvalue problem in the general case, but it is somewhat more complicated to do if $\\textbf{S}$ is not equal to the identity. This is often done in the derivation of the Hartree-Fock equations for computational ab-initio calculations). We can simplify this system of equations by dividing by beta and replacing $(E-\\alpha)/\\beta$ by $x$ in Eq. (2):\n",
        "\n",
        "> (9) $\\begin{pmatrix}\n",
        "  (\\alpha-E)/\\beta & 1 \\\\\n",
        "  1                & (\\alpha-E)/\\beta\n",
        " \\end{pmatrix} \\textbf{C} \n",
        " = \\begin{pmatrix} -x & 1 \\\\ 1  & -x \\end{pmatrix} \\textbf{C} = 0 $,\n",
        "\n",
        "which can again be rewritten as an eigenvalue problem:\n",
        "\n",
        "> (10) $ \\begin{pmatrix}\n",
        "  0 & 1 \\\\\n",
        "  1 & 0\n",
        " \\end{pmatrix} \\textbf{C} = \\textbf{M} \\textbf{C} = x~\\textbf{C} $\n",
        "\n",
        "We can obtain $x_i$ by finding the eigenvalues of the matrix $\\textbf{M}$ on the left hand side, and from these we finally obtain the energy levels of the molecule as follows:\n",
        "\n",
        "> (11) $E_i=\\alpha + \\beta x_i$\n",
        "\n",
        "The eigenvectors of the matrix $\\mathbf{M}$ still give us the coefficients $\\mathbf{C}$ for each molecular orbital, but with this little trick we can use numerical values only in the matrices which makes the problem much easier to solve for a computer."
      ]
    },
    {
      "cell_type": "markdown",
      "metadata": {
        "id": "CYORAMUVhNrx",
        "colab_type": "text"
      },
      "source": [
        "**EXAMPLE EXERCISE 1.2) Ethene Solving Hückel with Numpy**\n",
        "\n",
        "\n",
        "As you will see, solving Hückel problems for bigger systems by hand can turn into a tedious problem. Luckily, we can easily turn the Hückel matrices into an eigenvalue/eigenvector problem, and use numerical libraries to solve the problem for us. Using numpy, it is trivial to obtain the corresponding eigenvalues and eigenvectors. Compute the eigenvalues and eigenvectors of $\\mathbf{M}$ using numpy libraries. More specifically use the function from `numpy.linalg.eigh` and execute the following cell before starting with the exercise. It will import the necessary numpy functions, where t `numpy.linalg.eigh` is the function that we will use to compute eigenvalues and eigenvectors:\n",
        "\n",
        "```\n",
        "x, c = eigh(M) # x contains the x values, see cell above, c eigenvectors (normalized?)\n",
        "```\n",
        "\n",
        "What are the eigenvalues and eigenvectors of the $\\mathbf{M}$ matrix for ethene `M_eth`? In which order are the energies returned by the numpy function, increasing or decreasing order ($\\beta < 0$)? Are the results the same as we obtained by hand?\n",
        "Note that you must read the eigenvectors columnwise of the matrix c_eth, not across the rows. "
      ]
    },
    {
      "cell_type": "code",
      "metadata": {
        "id": "11gOObMLhRh-",
        "colab_type": "code",
        "colab": {}
      },
      "source": [
        "import numpy as np\n",
        "from numpy.linalg import eigh\n",
        "\n",
        "\"\"\"\n",
        " The following line changes numpy's default output to make numbers look better\n",
        " for example, very small numbers (1E-20) that are actually zero are shown as zero\n",
        "\"\"\"\n",
        "np.set_printoptions(precision=10, suppress=True)"
      ],
      "execution_count": 0,
      "outputs": []
    },
    {
      "cell_type": "markdown",
      "metadata": {
        "id": "mQWpCucFhU8_",
        "colab_type": "text"
      },
      "source": [
        "Your Code comes here:\n",
        "\n",
        "(You get solution as an example below for free but you are also welcome to try it yourself first!)"
      ]
    },
    {
      "cell_type": "code",
      "metadata": {
        "id": "nc-zqNFWhWXL",
        "colab_type": "code",
        "colab": {}
      },
      "source": [
        "## Your solution "
      ],
      "execution_count": 0,
      "outputs": []
    },
    {
      "cell_type": "markdown",
      "metadata": {
        "id": "fx10g4Y2hjAm",
        "colab_type": "text"
      },
      "source": [
        "**EXAMPLE SOLUTION 1.2) Ethene Solving Hückel with Numpy**"
      ]
    },
    {
      "cell_type": "code",
      "metadata": {
        "id": "F6pDoUlChjf5",
        "colab_type": "code",
        "colab": {}
      },
      "source": [
        "# set up the matrix\n",
        "M_eth = np.array([[0, 1],\n",
        "                  [1, 0]])\n",
        "# calculate relevant values\n",
        "x_eth, c_eth = eigh(M_eth)\n",
        "# Print the x eigenvalues\n",
        "print(\"eigenvalues\")\n",
        "print(x_eth)\n",
        "# Print the eigenvectors\n",
        "print(\"eigenvectors\")\n",
        "print(c_eth)"
      ],
      "execution_count": 0,
      "outputs": []
    },
    {
      "cell_type": "markdown",
      "metadata": {
        "id": "hg5Gq-n2hqO4",
        "colab_type": "text"
      },
      "source": [
        "**EXAMPLE EXERCISE 1.3) Ethene: Reshape an array**\n",
        "\n",
        "Reshape the eigenvectors as columns.\n",
        "To get the eigenvectors as columns you can do the following:"
      ]
    },
    {
      "cell_type": "code",
      "metadata": {
        "id": "-Zpik8KxhsYn",
        "colab_type": "code",
        "colab": {}
      },
      "source": [
        "# get single columns\n",
        "c_eth_1=c_eth[:, 0]\n",
        "c_eth_2=c_eth[:, 1]\n",
        "print(c_eth_1, c_eth_2)\n",
        "\n",
        "# get all coefficients as rows instead of columns\n",
        "print(c_eth.transpose())"
      ],
      "execution_count": 0,
      "outputs": []
    },
    {
      "cell_type": "markdown",
      "metadata": {
        "id": "yyhII4TEhurs",
        "colab_type": "text"
      },
      "source": [
        "Note that this did not change anything since the coefficient matrix for ethene is symmetric. If you want the reverse order for the energy eigenvalues of eigenvectors, so that they are in the order of increasing energy, you can do the following:"
      ]
    },
    {
      "cell_type": "code",
      "metadata": {
        "id": "YaVkbWi-hx_S",
        "colab_type": "code",
        "colab": {}
      },
      "source": [
        "xflip=np.flip(x_eth, 0)\n",
        "cflip=np.flip(c_eth, 1)\n",
        "print(xflip)\n",
        "print(cflip)"
      ],
      "execution_count": 0,
      "outputs": []
    },
    {
      "cell_type": "markdown",
      "metadata": {
        "id": "MYapOhp7h0gc",
        "colab_type": "text"
      },
      "source": [
        "## FROM HERE ON YOU NEED TO WRITE YOUR OWN CODE BUT YOU CAN USE THE PROVIDED EXAMPLE FOR ETHENE, MOST OF THE FOLLOWING EXERCISES ARE ANALOGOUS"
      ]
    },
    {
      "cell_type": "markdown",
      "metadata": {
        "id": "X-t-P-Xjh39_",
        "colab_type": "text"
      },
      "source": [
        "**EXERCISE 1.4) EIGENVALUES AND VECTORS WITH NUMPY BUTADIEN**\n",
        "\n",
        "Calculate the energy levels and molecular orbitals for butadiene. Note that you can proceed just like we did for Ethylene: What is the number the carbon atoms/ Write down the secular determinant, transform it into the matrix $\\mathbf{M}$.\n",
        "How is this matrix constructed? Finally use numpy as before to obtain the eigenvalues and eigenvectors."
      ]
    },
    {
      "cell_type": "markdown",
      "metadata": {
        "id": "CSc_KavGiFGM",
        "colab_type": "text"
      },
      "source": [
        "Your Code comes here:"
      ]
    },
    {
      "cell_type": "code",
      "metadata": {
        "id": "TKFtuYj_iFle",
        "colab_type": "code",
        "colab": {}
      },
      "source": [
        "##Your code comes here..."
      ],
      "execution_count": 0,
      "outputs": []
    },
    {
      "cell_type": "markdown",
      "metadata": {
        "id": "CYNPFhYFiOFk",
        "colab_type": "text"
      },
      "source": [
        "**EXERCISE 1.5) Energy Diagrams of BUTADIEN**\n",
        "\n",
        "Draw the energy diagrams, shape of the orbitals. Identify the HOMO and LUMO!"
      ]
    },
    {
      "cell_type": "markdown",
      "metadata": {
        "id": "Y1TNakEoiRKt",
        "colab_type": "text"
      },
      "source": [
        "**USEFUL HINTS:** "
      ]
    },
    {
      "cell_type": "code",
      "metadata": {
        "id": "ULlkrN8viTWP",
        "colab_type": "code",
        "colab": {}
      },
      "source": [
        "# what will the next bit of code do? is it matrix multiplication?\n",
        "sq_c = c_bd*c_bd\n",
        "norm = \tnp.sum(sq_c, axis=0)\n",
        "print(norm)"
      ],
      "execution_count": 0,
      "outputs": []
    },
    {
      "cell_type": "markdown",
      "metadata": {
        "id": "MME_EYe2iZCz",
        "colab_type": "text"
      },
      "source": [
        "Here each element $ij$ of the matrix c_bd is multiplied with the same element ij of the matrix c_bd. It is therefore not the same as matrix multiplication.\n",
        "By computing the sum across the columns we show that the 4 states are normalized."
      ]
    },
    {
      "cell_type": "markdown",
      "metadata": {
        "id": "N6pKQoJDidXh",
        "colab_type": "text"
      },
      "source": [
        "What is the energy difference between HOMO and LUMO and how does it compare to ethene? Remember that you can compute such energy differences in units of $\\beta$ obtained from the previous calculation using:\n",
        " \n",
        "> (11) $E_i = \\alpha + \\beta x_i$\n",
        " \n",
        "Which leads to the following expression for the HOMO-LUMO energy difference:\n",
        " \n",
        "> $\\Delta E(\\textrm{HOMO-LUMO})=(\\alpha + \\beta x_\\textrm{LUMO})-(\\alpha + \\beta x_\\textrm{HOMO})=\\beta (x_\\textrm{LUMO}-x_\\textrm{HOMO})$\n",
        " \n",
        "This means that the energy difference between HOMO-LUMO does not depend on the energy of the atomic orbital but only on the energy $\\beta$ which can be interpreted as the interaction energy between different atomic orbitals. This makes sense since in the limit case $\\beta \\rightarrow 0$ we must have $\\Delta E(\\textrm{HOMO-LUMO}) = 0$ since then the atomic orbitals are decoupled."
      ]
    },
    {
      "cell_type": "markdown",
      "metadata": {
        "id": "hAAqs89GilZg",
        "colab_type": "text"
      },
      "source": [
        "Your Code comes here:"
      ]
    },
    {
      "cell_type": "code",
      "metadata": {
        "id": "InxDr1tUinYf",
        "colab_type": "code",
        "colab": {}
      },
      "source": [
        "## Your code comes here\n",
        "#complete the following code to obtain the relevant values\n",
        "dE_HOMO_LUMO_ethene =\n",
        "dE_HOMO_LUMO_bdene  = "
      ],
      "execution_count": 0,
      "outputs": []
    },
    {
      "cell_type": "markdown",
      "metadata": {
        "id": "oLdr9hABiu9s",
        "colab_type": "text"
      },
      "source": [
        "**Some Linear Algebra**\n",
        "\n",
        "The eigenvectors of a matrix have some special properties, most importantly they diagonalize the original matrix such that the matrix in the \"eigenbasis\" corresponds to a stretching operation along each of the eigenvectors. If the matrix such as the Hamiltonian $\\mathbf{H}$ is symmetric then the eigenvectors are orthogonal and since we also require them to be orthonormal ($\\mathbf{C}^T \\mathbf{C}= \\mathbf{id}$) we can compute the inverse by transposing the matrix which contains the eigenvectors."
      ]
    },
    {
      "cell_type": "code",
      "metadata": {
        "id": "1AEjxRv5i07B",
        "colab_type": "code",
        "colab": {}
      },
      "source": [
        "# Orthonormal basis\n",
        "print(\"Orthonormal basis\")\n",
        "print(np.dot(c_eth.transpose(), c_eth))\n",
        "\n",
        "# Diagonalizing M\n",
        "print(\"\")\n",
        "print(\"Diagonalize M\")\n",
        "print(np.dot(c_eth.transpose(), np.dot(M_eth, c_eth)))"
      ],
      "execution_count": 0,
      "outputs": []
    },
    {
      "cell_type": "markdown",
      "metadata": {
        "id": "xYsqXkJyi3rE",
        "colab_type": "text"
      },
      "source": [
        "**Benzene** \n",
        "**EXERCISE 1.6)  EIGENVALUES AND VECTORS WITH NUMPY Benzene**\n",
        "\n",
        "Repeat the complete procedure for benzene. Count the number of carbon atoms, construct the matrix $\\mathbf{M}$. What is different compared to the previous molecules? How do the energy levels look now? Are there degenerate states = states that correspond to the same eigenvalue? Show once more that the obtained eigenvectors are orthonormal and that they diagonalize M.\n",
        "\n",
        "**Hint**: Make sure that you consider all neighbours of the carbon atoms!"
      ]
    },
    {
      "cell_type": "markdown",
      "metadata": {
        "id": "NI8bk0Mci58A",
        "colab_type": "text"
      },
      "source": [
        "Your Code comes here:"
      ]
    },
    {
      "cell_type": "code",
      "metadata": {
        "id": "uijLrJJgi7mk",
        "colab_type": "code",
        "colab": {}
      },
      "source": [
        "## Your code comes here"
      ],
      "execution_count": 0,
      "outputs": []
    },
    {
      "cell_type": "markdown",
      "metadata": {
        "id": "GGQFgxSmjLbH",
        "colab_type": "text"
      },
      "source": [
        "## Molecular Orbitals of Infinite Chain and Solids\n",
        " **EXERCISE 2.1)  Tight binding**\n",
        "\n",
        "The electronic states in a solid can be considered as a limit of molecular orbital theory with an infinite number of atoms in a periodic arrangement.\n",
        "It is a very particular property for solids in contrast to molecules that the electrons do not occupy orbitals and discrete levels of energy but instead form a so-called band structure with a continuous band of possible energy eigenvalues. It is surprisingly simple to apply the Hueckel model to a one dimensional solid which is from the Hueckel point of view the same as an infinite one dimensional chain molecule.\n",
        "This model is similar to the so-called **tight-binding approximation** in solid state physics. In this model we make the assumption that the solid model may is composed of atomic s-orbitals and that an *s-band* is formed when the number of atomic orbitals goes to infinity $N \\rightarrow \\infty$.\n",
        "\n",
        " \n",
        "(Check the Atkins, Friedmann' *Molecular Quantum Mechanics* Chapter: 8.12 *The tight-binding approximation*)\n",
        "\n",
        "\n",
        "\n",
        "1.   Write a function that constructs the eigenvalue matrix $\\mathbf{M}$ for any given $N$. Hint: Use the function `np.eye()` and check the numpy manual! \n",
        "The code `np.eye(N, k=1)` will give you an $N \\times N$ matrix with ones on the positive offdiagonal and zeros elsewhere\n",
        "\n",
        "2.   Say $N = 1000$, plot the distribution of eigenvalues using a histrogram and `matplotlib.pyplot`. The result will be the density of states of a one-dimensional solid\n",
        "\n",
        "3. Now let $N$ run in a loop from $N = 10$ to $N = 1000$, compute the eigenvalues for each $N$ in intervals of $10$ using `range(10, 1010, 10)`\n",
        "\n",
        "4. Plot the difference between any two eigenvalues, say between the first and second eigenvalue `abs(eig_vals[0]-eig_vals[1])`, as a function of $N$. What do you observe?\n",
        "\n",
        "\n",
        "Hint: For $N=4$ you should get the same matrix as previously for Butadiene."
      ]
    },
    {
      "cell_type": "markdown",
      "metadata": {
        "id": "qhVMmEYyjRb7",
        "colab_type": "text"
      },
      "source": [
        "Your Code comes here:"
      ]
    },
    {
      "cell_type": "code",
      "metadata": {
        "id": "Aqa-8oB1jR3c",
        "colab_type": "code",
        "colab": {}
      },
      "source": [
        "## Your code comes here"
      ],
      "execution_count": 0,
      "outputs": []
    },
    {
      "cell_type": "markdown",
      "metadata": {
        "id": "14iK1UTnjWUF",
        "colab_type": "text"
      },
      "source": [
        "**REFERENCES**\n",
        "\n",
        "Eigenvalue Theory and Linear Algebra:\n",
        "\n",
        "\n",
        "*   Tutorium Analysis 1 und Lineare Algebra 1 \n",
        "*   Tutorium Analysis 2 und Lineare Algebra 2 (German)\n",
        "\n",
        "Quantum Chemistry:\n",
        "\n",
        "*   Atkins', Physical Chemistry\n",
        "*   Atkins', Friedmann' Molecular Quantum Mechanics"
      ]
    }
  ]
}